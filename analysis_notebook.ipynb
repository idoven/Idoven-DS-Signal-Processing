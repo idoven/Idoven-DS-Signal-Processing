{
 "cells": [
  {
   "cell_type": "markdown",
   "id": "84d53a4c",
   "metadata": {},
   "source": [
    "# Investigation and exploitation of the Idoven test dataset\n",
    "\n"
   ]
  },
  {
   "cell_type": "code",
   "execution_count": 9,
   "id": "9b134424",
   "metadata": {},
   "outputs": [],
   "source": [
    "from idoven_data_scientist import analysis"
   ]
  },
  {
   "cell_type": "code",
   "execution_count": 8,
   "id": "913e7959",
   "metadata": {},
   "outputs": [],
   "source": []
  },
  {
   "cell_type": "code",
   "execution_count": null,
   "id": "16ce87af",
   "metadata": {},
   "outputs": [],
   "source": []
  }
 ],
 "metadata": {
  "kernelspec": {
   "display_name": "Python 3 (ipykernel)",
   "language": "python",
   "name": "python3"
  },
  "language_info": {
   "codemirror_mode": {
    "name": "ipython",
    "version": 3
   },
   "file_extension": ".py",
   "mimetype": "text/x-python",
   "name": "python",
   "nbconvert_exporter": "python",
   "pygments_lexer": "ipython3",
   "version": "3.7.7"
  }
 },
 "nbformat": 4,
 "nbformat_minor": 5
}
