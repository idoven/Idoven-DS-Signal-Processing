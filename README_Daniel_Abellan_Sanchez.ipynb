{
 "cells": [
  {
   "cell_type": "markdown",
   "metadata": {},
   "source": [
    "# Solution of tasks\n",
    "\n",
    "I have updated the repository in this pull-request providing the best solution found for the proposed tasks.\n",
    "\n",
    "In order to solve them, I have used several specific signal processing libraries such as [wfdb](https://wfdb.readthedocs.io/en/latest/), [HeartPy](https://python-heart-rate-analysis-toolkit.readthedocs.io/en/latest/index.html) and [ecg_plot](https://github.com/dy1901/ecg_plot). There is a short explanation in each notebook, as well as descriptions of the functions and comments on each required instruction.\n",
    "\n",
    "In some cases, I have proposed several possible solutions to complete the task, since with the multiple available libraries it could be done. Depending on the specific case and use, the one that best suits should be used.\n",
    "\n",
    "The installation of these libraries is included next in this notebook. It is prepared to work under any Linux environment with Python installed. File *requirements.txt* is included in this pull-request.\n",
    "\n",
    "It is also included the download of the database proposed for these tests. Without it, the programs will not work.\n"
   ]
  },
  {
   "cell_type": "markdown",
   "metadata": {},
   "source": [
    "Installing dependencies"
   ]
  },
  {
   "cell_type": "code",
   "execution_count": null,
   "metadata": {},
   "outputs": [],
   "source": [
    "%pip install -r requirements.txt"
   ]
  },
  {
   "cell_type": "markdown",
   "metadata": {},
   "source": [
    "Download data"
   ]
  },
  {
   "cell_type": "code",
   "execution_count": null,
   "metadata": {},
   "outputs": [],
   "source": [
    "%cd data/\n",
    "!chmod +x download_data.sh\n",
    "!./download_data.sh"
   ]
  }
 ],
 "metadata": {
  "kernelspec": {
   "display_name": "Python 3.8.2 ('tf_gpu')",
   "language": "python",
   "name": "python3"
  },
  "language_info": {
   "codemirror_mode": {
    "name": "ipython",
    "version": 3
   },
   "file_extension": ".py",
   "mimetype": "text/x-python",
   "name": "python",
   "nbconvert_exporter": "python",
   "pygments_lexer": "ipython3",
   "version": "3.8.2"
  },
  "orig_nbformat": 4,
  "vscode": {
   "interpreter": {
    "hash": "cc59e18560178c566026eaa8e4e84d152cc13a5eab0c8c5f9e13c545693b8b9c"
   }
  }
 },
 "nbformat": 4,
 "nbformat_minor": 2
}
