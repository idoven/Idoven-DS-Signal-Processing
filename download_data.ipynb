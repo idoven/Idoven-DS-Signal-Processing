{
  "nbformat": 4,
  "nbformat_minor": 0,
  "metadata": {
    "colab": {
      "provenance": [],
      "mount_file_id": "1nPA9SMRqqvVlK5NFI6dnQ689x0CLZjid",
      "authorship_tag": "ABX9TyPv/DegN4B/3mlPYMMqzZbS"
    },
    "kernelspec": {
      "name": "python3",
      "display_name": "Python 3"
    },
    "language_info": {
      "name": "python"
    }
  },
  "cells": [
    {
      "cell_type": "code",
      "execution_count": null,
      "metadata": {
        "id": "8W90J1XjzlN6"
      },
      "outputs": [],
      "source": [
        "!wget -P /content/drive/MyDrive/Github/Idoven/ -r -N -c -np https://physionet.org/files/ptb-xl/1.0.2/"
      ]
    }
  ]
}