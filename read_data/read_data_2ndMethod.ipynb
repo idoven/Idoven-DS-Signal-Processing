{
 "cells": [
  {
   "cell_type": "markdown",
   "metadata": {},
   "source": [
    "## Data reading - Second method\n",
    "\n",
    "\n",
    "This second method uses the [wfdb library](https://wfdb.readthedocs.io/en/latest/) to read the signals. As described by the library itself, *\"it is used to read, write and process WFDB signals and their descriptions\"*.\n",
    "\n",
    "This library is the one officially used by [physionet](https://archive.physionet.org/physiotools/wfdb.shtml), therefore, it is the most complete for reading and interpreting its databases.\n",
    "\n",
    "\n",
    "Later in the rest of the notebooks, I will refer to this way of loading data as **\"second data loading method\"**."
   ]
  },
  {
   "cell_type": "markdown",
   "metadata": {},
   "source": [
    "The necessary libraries are imported and a random number generator is created."
   ]
  },
  {
   "cell_type": "code",
   "execution_count": 1,
   "metadata": {},
   "outputs": [],
   "source": [
    "import pandas as pd\n",
    "import numpy as np\n",
    "import ast\n",
    "import wfdb\n",
    "from wfdb import processing\n",
    "import matplotlib.pyplot as plt\n",
    "import heartpy as hp\n",
    "import ecg_plot\n",
    "import os\n",
    "import glob\n",
    "\n",
    "import warnings\n",
    "warnings.filterwarnings('ignore')\n",
    "\n",
    "# Create random generator with its seed\n",
    "rng = np.random.default_rng(123)"
   ]
  },
  {
   "cell_type": "markdown",
   "metadata": {},
   "source": [
    "The wfdb library is used to read the downloaded database. \n",
    "\n",
    "Functions are used to read the database header, physical samples, signals and relevant information."
   ]
  },
  {
   "cell_type": "code",
   "execution_count": 3,
   "metadata": {},
   "outputs": [
    {
     "name": "stdout",
     "output_type": "stream",
     "text": [
      "Selected: records100/00000/00344_lr\n"
     ]
    }
   ],
   "source": [
    "# Setup data variables\n",
    "db_path = '../data/physionet.org/files/ptb-xl/1.0.2/records'\n",
    "sampling_rate = 100 # Sampling rate of the signal (100 or 500)\n",
    "path = db_path + str(sampling_rate) + \"/\" # Complete path\n",
    "\n",
    "# Check that the folder exists\n",
    "try:\n",
    "    folder_exists = os.path.exists(path)\n",
    "    if not folder_exists: \n",
    "        raise FileNotFoundError()\n",
    "except FileNotFoundError:\n",
    "    print(\"Folder \" + path + \" does not exists!\")\n",
    "\n",
    "# Store all data paths\n",
    "data = []\n",
    "for f in glob.glob(path + '/**/*.dat', recursive=True):\n",
    "    data.append(f.split(\".dat\")[0]) # Remove extension from path\n",
    "\n",
    "# Select random data file\n",
    "data_path = data[rng.integers(low=0, high=len(data))]\n",
    "print (\"Selected: \" + str(data_path.split(\"1.0.2/\")[1]))\n",
    "\n",
    "# Read a WFDB header file and return a Record or MultiRecord object with the record descriptors as attributes\n",
    "header = wfdb.rdheader(data_path, pn_dir=None, rd_segments=False)\n",
    "\n",
    "# Load the WFDB record and the physical samples\n",
    "record = wfdb.rdrecord(data_path)\n",
    "\n",
    "# Read a WFDB record, and return the physical signals and a few important descriptor fields.\n",
    "sig, fields = wfdb.rdsamp(data_path)"
   ]
  }
 ],
 "metadata": {
  "kernelspec": {
   "display_name": "Python 3.8.2 ('tf_gpu')",
   "language": "python",
   "name": "python3"
  },
  "language_info": {
   "codemirror_mode": {
    "name": "ipython",
    "version": 3
   },
   "file_extension": ".py",
   "mimetype": "text/x-python",
   "name": "python",
   "nbconvert_exporter": "python",
   "pygments_lexer": "ipython3",
   "version": "3.8.2"
  },
  "orig_nbformat": 4,
  "vscode": {
   "interpreter": {
    "hash": "cc59e18560178c566026eaa8e4e84d152cc13a5eab0c8c5f9e13c545693b8b9c"
   }
  }
 },
 "nbformat": 4,
 "nbformat_minor": 2
}
