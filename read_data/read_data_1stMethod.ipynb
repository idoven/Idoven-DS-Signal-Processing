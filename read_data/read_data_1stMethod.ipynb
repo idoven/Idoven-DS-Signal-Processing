{
 "cells": [
  {
   "cell_type": "markdown",
   "metadata": {},
   "source": [
    "## Data reading - First method\n",
    "\n",
    "This is the first database read method implemented. According to the database's own [documentation](https://physionet.org/content/ptb-xl/1.0.2/) it *\"provides a minimal use example showing how to load waveform data and tags making use of the proposed train-test split.\"*\n",
    "\n",
    "Later in the rest of the notebooks, I will refer to this way of loading data as **\"first data loading method\"**."
   ]
  },
  {
   "cell_type": "markdown",
   "metadata": {},
   "source": [
    "The necessary libraries are imported and a random number generator is created."
   ]
  },
  {
   "cell_type": "code",
   "execution_count": 1,
   "metadata": {},
   "outputs": [],
   "source": [
    "import pandas as pd\n",
    "import numpy as np\n",
    "import ast\n",
    "import wfdb\n",
    "from wfdb import processing\n",
    "import matplotlib.pyplot as plt\n",
    "import heartpy as hp\n",
    "import ecg_plot\n",
    "import os\n",
    "import glob\n",
    "\n",
    "import warnings\n",
    "warnings.filterwarnings('ignore')\n",
    "\n",
    "# Create random generator with its seed\n",
    "rng = np.random.default_rng(123)"
   ]
  },
  {
   "cell_type": "markdown",
   "metadata": {},
   "source": [
    "Functions for loading data. Their operation is described in the functions."
   ]
  },
  {
   "cell_type": "code",
   "execution_count": 2,
   "metadata": {},
   "outputs": [],
   "source": [
    "def load_raw_data(df:pd.core.frame.DataFrame, sampling_rate:int, path:str):\n",
    "    \"\"\"Load data from DataFrame acording to sampling rate\n",
    "\n",
    "    Args:\n",
    "        df (pandas.core.frame.DataFrame): DataFrame to read\n",
    "        sampling_rate (int): Sampling rate of signal\n",
    "        path (str): Path that contains signal data\n",
    "\n",
    "    Returns:\n",
    "        numpy.ndarray: Signal data\n",
    "    \"\"\"\n",
    "\n",
    "    if sampling_rate == 100:\n",
    "        data = [wfdb.rdsamp(path+f) for f in df.filename_lr]\n",
    "    else:\n",
    "        data = [wfdb.rdsamp(path+f) for f in df.filename_hr]\n",
    "    \n",
    "    data = np.array([signal for signal, meta in data])\n",
    "    return data\n",
    "\n",
    "def aggregate_diagnostic(y_dic:dict):\n",
    "    \"\"\"Add diagnostics from csv \n",
    "\n",
    "    Args:\n",
    "        y_dic (dict): Contains diagnostic \n",
    "\n",
    "    Returns:\n",
    "        list: Diagnostic in list format\n",
    "    \"\"\"\n",
    "    tmp = []\n",
    "    for key in y_dic.keys():\n",
    "        if key in agg_df.index:\n",
    "            tmp.append(agg_df.loc[key].diagnostic_class)\n",
    "    return list(set(tmp))"
   ]
  },
  {
   "cell_type": "markdown",
   "metadata": {},
   "source": [
    "The data are loaded following the [documentation](https://physionet.org/content/ptb-xl/1.0.2/) scheme. It can be seen that the data is ready to be used in an artificial intelligence training system."
   ]
  },
  {
   "cell_type": "code",
   "execution_count": 4,
   "metadata": {},
   "outputs": [],
   "source": [
    "# Setup data variables\n",
    "path = '../data/physionet.org/files/ptb-xl/1.0.2/'\n",
    "sampling_rate = 100 # Sampling rate of the signal (100 or 500)\n",
    "\n",
    "# Check that the folder exists\n",
    "try:\n",
    "    folder_exists = os.path.exists(path)\n",
    "    if not folder_exists: \n",
    "        raise FileNotFoundError()\n",
    "except FileNotFoundError:\n",
    "    print(\"Folder \" + path + \" does not exists!\")\n",
    "\n",
    "# Load and convert annotation data\n",
    "Y_aux = pd.read_csv(path+'ptbxl_database.csv', index_col='ecg_id')\n",
    "Y_aux.scp_codes = Y_aux.scp_codes.apply(lambda x: ast.literal_eval(x))\n",
    "\n",
    "# Subset of N random data\n",
    "n_data = rng.integers(low=0, high=50)\n",
    "Y = Y_aux.sample(n=n_data)\n",
    "\n",
    "# Load raw signal data\n",
    "X = load_raw_data(Y, sampling_rate, path)\n",
    "\n",
    "# Load scp_statements.csv for diagnostic aggregation\n",
    "agg_df = pd.read_csv(path+'scp_statements.csv', index_col=0)\n",
    "agg_df = agg_df[agg_df.diagnostic == 1]\n",
    "\n",
    "# Apply diagnostic superclass\n",
    "Y['diagnostic_superclass'] = Y.scp_codes.apply(aggregate_diagnostic)"
   ]
  }
 ],
 "metadata": {
  "kernelspec": {
   "display_name": "Python 3.8.2 ('tf_gpu')",
   "language": "python",
   "name": "python3"
  },
  "language_info": {
   "codemirror_mode": {
    "name": "ipython",
    "version": 3
   },
   "file_extension": ".py",
   "mimetype": "text/x-python",
   "name": "python",
   "nbconvert_exporter": "python",
   "pygments_lexer": "ipython3",
   "version": "3.8.2"
  },
  "orig_nbformat": 4,
  "vscode": {
   "interpreter": {
    "hash": "cc59e18560178c566026eaa8e4e84d152cc13a5eab0c8c5f9e13c545693b8b9c"
   }
  }
 },
 "nbformat": 4,
 "nbformat_minor": 2
}
