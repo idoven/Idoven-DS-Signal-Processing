{
  "cells": [
    {
      "cell_type": "markdown",
      "metadata": {
        "id": "iVGjPkycUynN"
      },
      "source": [
        "# Imports"
      ]
    },
    {
      "cell_type": "code",
      "execution_count": 2,
      "metadata": {
        "id": "H7VflX7UUynP"
      },
      "outputs": [
        {
          "name": "stdout",
          "output_type": "stream",
          "text": [
            "/mnt/c/Users/diego/OneDrive/Documentos/Idoven/Idoven-Data-Scientist\n"
          ]
        }
      ],
      "source": [
        "root_path = \"/mnt/c/Users/diego/OneDrive/Documentos/Idoven/Idoven-Data-Scientist/\"\n",
        "%cd $root_path\n",
        "\n",
        "import os\n",
        "import json\n",
        "from typing import Generator, Optional, Tuple, List\n",
        "import pickle\n",
        "\n",
        "\n",
        "import pandas as pd\n",
        "import numpy as np\n",
        "import matplotlib.pyplot as plt\n",
        "import seaborn as sns\n",
        "import missingno as msno\n",
        "from tqdm import tqdm\n",
        "\n",
        "from sklearn.preprocessing import StandardScaler, MultiLabelBinarizer\n",
        "from sklearn.utils import shuffle\n",
        "from sklearn.preprocessing import StandardScaler\n",
        "from sklearn.metrics import roc_auc_score\n",
        "\n",
        "\n",
        "\n",
        "import torch \n",
        "import torch.nn as nn\n",
        "import math\n",
        "\n",
        "from models.resnet101 import resnet101\n",
        "from models.ECGNet import ECGNet\n",
        "\n",
        "from utils.metrics import Metrics, AUC, metric_summary\n",
        "\n",
        "import wandb\n",
        "\n",
        "\n"
      ]
    },
    {
      "cell_type": "markdown",
      "metadata": {
        "id": "mVVcFtrCUynS"
      },
      "source": [
        "## Load from pickle"
      ]
    },
    {
      "cell_type": "code",
      "execution_count": 3,
      "metadata": {},
      "outputs": [],
      "source": [
        "path_variable_pickle = 'data/variables_pickle/'\n",
        "files = [\n",
        "    ('X_train_scale', 'X_train_scale.pkl'),\n",
        "    ('y_train', 'y_train.pkl'),\n",
        "    ('X_test_scale', 'X_test_scale.pkl'),\n",
        "    ('y_test', 'y_test.pkl'),\n",
        "    ('X_val_scale', 'X_val_scale.pkl'),\n",
        "    ('y_val', 'y_val.pkl')\n",
        "    ]\n",
        "\n",
        "for variable, file in files:\n",
        "    with open(path_variable_pickle + file, 'rb') as f:\n",
        "        globals()[variable] = pickle.load(f)\n"
      ]
    },
    {
      "cell_type": "code",
      "execution_count": 4,
      "metadata": {},
      "outputs": [
        {
          "name": "stdout",
          "output_type": "stream",
          "text": [
            "X_train_scale: (17090, 1000, 12)\n",
            "y_train: (17090, 5)\n",
            "X_test_scale: (2159, 1000, 12)\n",
            "y_test: (2159, 5)\n",
            "X_val_scale: (2147, 1000, 12)\n",
            "y_val: (2147, 5)\n"
          ]
        }
      ],
      "source": [
        "for f, _ in files:\n",
        "    print(f\"{f}: {eval(f).shape}\")"
      ]
    },
    {
      "cell_type": "markdown",
      "metadata": {
        "id": "KA7SYC4GUynj"
      },
      "source": [
        "# Training"
      ]
    },
    {
      "cell_type": "markdown",
      "metadata": {
        "id": "rODAbRgzUynj"
      },
      "source": [
        "https://github1s.com/likith012/IMLE-Net/blob/HEAD/torch_train.py#L184-L243"
      ]
    },
    {
      "cell_type": "code",
      "execution_count": null,
      "metadata": {
        "id": "O7OZCv2JUynj",
        "outputId": "9c7a7f29-5a75-4fdd-9578-0b9a23dbc2f1"
      },
      "outputs": [],
      "source": [
        "device = torch.device(\"cuda:0\" if torch.cuda.is_available() else \"cpu\")\n",
        "device"
      ]
    },
    {
      "cell_type": "code",
      "execution_count": 5,
      "metadata": {
        "id": "QKWkochDUynj"
      },
      "outputs": [],
      "source": [
        "class DataGen(torch.utils.data.Dataset):\n",
        "    \"\"\"Generates a torch Dataset object.\n",
        "\n",
        "    Attributes\n",
        "    ----------\n",
        "    X: np.array\n",
        "        Array of ECG signals.\n",
        "    y: np.array\n",
        "        Array of labels.\n",
        "    batch_size: int, optional\n",
        "        Batch size. (default: 32)\n",
        "\n",
        "    \"\"\"\n",
        "\n",
        "    def __init__(self, X: np.array, y: np.array, batch_size: int = 32) -> None:\n",
        "        self.batch_size = batch_size\n",
        "        self.X = X\n",
        "        self.y = y\n",
        "\n",
        "    def __len__(self) -> int:\n",
        "        return math.ceil(len(self.X) / self.batch_size)\n",
        "\n",
        "    def __getitem__(self, idx: int) -> Tuple[torch.Tensor, torch.Tensor]:\n",
        "        batch_x = self.X[idx * self.batch_size : (idx + 1) * self.batch_size]\n",
        "        batch_y = self.y[idx * self.batch_size : (idx + 1) * self.batch_size]\n",
        "        return torch.tensor(batch_x, dtype=torch.float32), torch.tensor(\n",
        "            batch_y, dtype=torch.float32\n",
        "        )"
      ]
    },
    {
      "cell_type": "code",
      "execution_count": 6,
      "metadata": {
        "id": "oB0H9FJ3bf5W"
      },
      "outputs": [],
      "source": [
        "def dump_logs(train_results: tuple, test_results: tuple, name: str):\n",
        "    \"\"\"Dumps the performance logs to a json file.\n",
        "\n",
        "    Parameters\n",
        "    ----------\n",
        "    train_results: tuple\n",
        "        Training results.\n",
        "    test_results: tuple\n",
        "        Testing results.\n",
        "    name: str\n",
        "        Name of the model.\n",
        "\n",
        "    \"\"\"\n",
        "\n",
        "    logs = {\n",
        "        \"train_loss\": train_results[0],\n",
        "        \"train_mean_accuracy\": train_results[1],\n",
        "        \"train_roc_score\": train_results[2],\n",
        "        \"test_loss\": test_results[0],\n",
        "        \"test_mean_accuracy\": test_results[1],\n",
        "        \"test_roc_score\": test_results[2],\n",
        "    }\n",
        "    logs_path = os.path.join(os.getcwd(), \"logs\")\n",
        "    os.makedirs(logs_path, exist_ok=True)\n",
        "\n",
        "    with open(os.path.join(logs_path, f\"{name}_train_logs.json\"), \"w\") as json_file:\n",
        "        json.dump({k: float(v.item()) for k, v in logs.items()}, json_file)\n",
        "        # json.dump(logs, json_file)\n",
        "\n",
        "\n",
        "def train_epoch(\n",
        "    model: nn.Module,\n",
        "    optimizer: torch.optim,\n",
        "    loss_func,\n",
        "    dataset,\n",
        "    epoch: int,\n",
        "    device: torch.device,\n",
        "    loggr: bool = False,\n",
        ") -> Tuple[float, float, float]:\n",
        "    \"\"\"Training of the model for one epoch.\n",
        "\n",
        "    Parameters\n",
        "    ----------\n",
        "    model: nn.Module\n",
        "        Model to be trained.\n",
        "    optimizer: torch.optim\n",
        "        Optimizer to be used.\n",
        "    loss_func: torch.nn._Loss\n",
        "        Loss function to be used.\n",
        "    dataset: torch.utils.data.DataLoader\n",
        "        Dataset to be used.\n",
        "    epoch: int, optional\n",
        "        The current epoch.\n",
        "    device: torch.device\n",
        "        Device to be used.\n",
        "    loggr: bool, optional\n",
        "        To log wandb metrics. (default: False)\n",
        "\n",
        "    \"\"\"\n",
        "\n",
        "    model.train()\n",
        "\n",
        "    pred_all = []\n",
        "    loss_all = []\n",
        "    gt_all = []\n",
        "\n",
        "    for batch_step in tqdm(range(len(dataset)), desc=\"train\"):\n",
        "        batch_x, batch_y = dataset[batch_step]\n",
        "        batch_x = batch_x.to(device)\n",
        "        batch_x = batch_x.permute(0, 2, 1)\n",
        "        batch_y = batch_y.to(device)\n",
        "\n",
        "        pred = model(batch_x)\n",
        "        pred_all.append(pred.cpu().detach().numpy())\n",
        "        loss = loss_func(pred, batch_y)\n",
        "        loss_all.append(loss.cpu().detach().item())\n",
        "        optimizer.zero_grad()\n",
        "        loss.backward()\n",
        "        optimizer.step()\n",
        "        gt_all.extend(batch_y.cpu().detach().numpy())\n",
        "\n",
        "        # Clean Memory\n",
        "        del batch_x\n",
        "        del batch_y\n",
        "        gc.collect()\n",
        "        torch.cuda.empty_cache()\n",
        "\n",
        "    print(\"Epoch: {0}\".format(epoch))\n",
        "    print(\"Train loss: \", np.mean(loss_all), end=\"\\n\" * 2)\n",
        "\n",
        "    pred_all = np.concatenate(pred_all, axis=0)\n",
        "    _, mean_acc = Metrics(np.array(gt_all), pred_all)\n",
        "    roc_score = roc_auc_score(np.array(gt_all), pred_all, average=\"macro\")\n",
        "\n",
        "    if loggr is not None:\n",
        "        loggr.log({\"train_mean_accuracy\": mean_acc, \"epoch\": epoch})\n",
        "        loggr.log({\"train_roc_score\": roc_score, \"epoch\": epoch})\n",
        "        loggr.log({\"train_loss\": np.mean(loss_all), \"epoch\": epoch})\n",
        "\n",
        "    return np.mean(loss_all), mean_acc, roc_score\n",
        "\n",
        "\n",
        "def test_epoch(\n",
        "    model: nn.Module,\n",
        "    loss_func: torch.optim,\n",
        "    dataset,\n",
        "    epoch: int,\n",
        "    device: torch.device,\n",
        "    loggr: bool = False,\n",
        ") -> Tuple[float, float, float]:\n",
        "    \"\"\"Testing of the model for one epoch.\n",
        "\n",
        "    Parameters\n",
        "    ----------\n",
        "    model: nn.Module\n",
        "        Model to be trained.\n",
        "    loss_func: torch.nn.BCEWithLogitsLoss\n",
        "        Loss function to be used.\n",
        "    dataset: torch.utils.data.DataLoader\n",
        "        Dataset to be used.\n",
        "    epoch: int, optional\n",
        "        The current epoch.\n",
        "    device: torch.device\n",
        "        Device to be used.\n",
        "    loggr: bool, optional\n",
        "        To log wandb metrics. (default: False)\n",
        "\n",
        "    \"\"\"\n",
        "\n",
        "    model.eval()\n",
        "\n",
        "    pred_all = []\n",
        "    loss_all = []\n",
        "    gt_all = []\n",
        "\n",
        "    for batch_step in tqdm(range(len(dataset)), desc=\"valid\"):\n",
        "        batch_x, batch_y = dataset[batch_step]\n",
        "        batch_x = batch_x.to(device)\n",
        "        batch_x = batch_x.permute(0, 2, 1)\n",
        "        batch_y = batch_y.to(device)\n",
        "\n",
        "        pred = model(batch_x)\n",
        "        pred_all.append(pred.cpu().detach().numpy())\n",
        "        loss = loss_func(pred, batch_y)\n",
        "        loss_all.append(loss.cpu().detach().numpy())\n",
        "        gt_all.extend(batch_y.cpu().detach().numpy())\n",
        "\n",
        "    print(\"Test loss: \", np.mean(loss_all))\n",
        "    pred_all = np.concatenate(pred_all, axis=0)\n",
        "    _, mean_acc = Metrics(np.array(gt_all), pred_all)\n",
        "    roc_score = roc_auc_score(np.array(gt_all), pred_all, average=\"macro\")\n",
        "\n",
        "    if loggr is not None:\n",
        "        loggr.log({\"test_mean_accuracy\": mean_acc, \"epoch\": epoch})\n",
        "        loggr.log({\"test_roc_score\": roc_score, \"epoch\": epoch})\n",
        "        loggr.log({\"test_loss\": np.mean(loss_all), \"epoch\": epoch})\n",
        "\n",
        "    return np.mean(loss_all), mean_acc, roc_score"
      ]
    },
    {
      "cell_type": "code",
      "execution_count": 7,
      "metadata": {
        "id": "RClSWwPbZ68z"
      },
      "outputs": [],
      "source": [
        "def train(\n",
        "    model_name: str,\n",
        "    train_gen: DataGen,\n",
        "    val_gen: DataGen,\n",
        "    batch_size: int = 32,\n",
        "    epochs: int = 60,\n",
        "    loggr: wandb = None,\n",
        "    name: str = \"ecgnet\",\n",
        ") -> None:\n",
        "    \"\"\"Data preprocessing and training of the model.\n",
        "\n",
        "    Parameters\n",
        "    ----------\n",
        "    model: nn.Module\n",
        "        Model to be trained.\n",
        "    path: str, optional\n",
        "        Path to the directory containing the data. (default: 'data/ptb')\n",
        "    batch_size: int, optional\n",
        "        Batch size. (default: 32)\n",
        "    epochs: int, optional\n",
        "        Number of epochs. (default: 60)\n",
        "    loggr: wandb, optional\n",
        "        To log wandb metrics. (default: None)\n",
        "    name: str, optional\n",
        "        Name of the model. (default: 'ecgnet')\n",
        "\n",
        "    \"\"\"\n",
        "\n",
        "    if model_name == \"ecgnet\":\n",
        "        model = ECGNet()\n",
        "    else:\n",
        "        model = resnet101()\n",
        "\n",
        "    checkpoint_filepath = os.path.join(os.getcwd(), \"checkpoints\")\n",
        "    os.makedirs(checkpoint_filepath, exist_ok=True)\n",
        "    device = torch.device(\"cuda:0\" if torch.cuda.is_available() else \"cpu\")\n",
        "\n",
        "    model.to(device)\n",
        "    optimizer = torch.optim.Adam(model.parameters(), lr=0.001)\n",
        "    loss_func = torch.nn.BCEWithLogitsLoss()\n",
        "\n",
        "    best_score = 0.0\n",
        "    for epoch in range(epochs):\n",
        "        train_results = train_epoch(\n",
        "            model, optimizer, loss_func, train_gen, epoch, device, loggr=loggr\n",
        "        )\n",
        "        test_results = test_epoch(model, loss_func, val_gen, epoch, device, loggr=loggr)\n",
        "\n",
        "        if epoch > 5 and best_score < test_results[2]:\n",
        "            save_path = os.path.join(checkpoint_filepath, f\"{name}_weights.pt\")\n",
        "            torch.save(model.state_dict(), save_path)\n",
        "            dump_logs(train_results, test_results, name)\n"
      ]
    },
    {
      "attachments": {},
      "cell_type": "markdown",
      "metadata": {},
      "source": [
        "## Logger"
      ]
    },
    {
      "cell_type": "code",
      "execution_count": 42,
      "metadata": {},
      "outputs": [
        {
          "data": {
            "text/html": [
              "Finishing last run (ID:3a9nazo6) before initializing another..."
            ],
            "text/plain": [
              "<IPython.core.display.HTML object>"
            ]
          },
          "metadata": {},
          "output_type": "display_data"
        },
        {
          "data": {
            "text/html": [
              "Waiting for W&B process to finish... <strong style=\"color:green\">(success).</strong>"
            ],
            "text/plain": [
              "<IPython.core.display.HTML object>"
            ]
          },
          "metadata": {},
          "output_type": "display_data"
        },
        {
          "data": {
            "application/vnd.jupyter.widget-view+json": {
              "model_id": "36184d6f2910410da7ee29eb0a4c432c",
              "version_major": 2,
              "version_minor": 0
            },
            "text/plain": [
              "VBox(children=(Label(value='1198.194 MB of 1198.194 MB uploaded (0.000 MB deduped)\\r'), FloatProgress(value=1.…"
            ]
          },
          "metadata": {},
          "output_type": "display_data"
        },
        {
          "data": {
            "text/html": [
              "<style>\n",
              "    table.wandb td:nth-child(1) { padding: 0 10px; text-align: left ; width: auto;} td:nth-child(2) {text-align: left ; width: 100%}\n",
              "    .wandb-row { display: flex; flex-direction: row; flex-wrap: wrap; justify-content: flex-start; width: 100% }\n",
              "    .wandb-col { display: flex; flex-direction: column; flex-basis: 100%; flex: 1; padding: 10px; }\n",
              "    </style>\n",
              "<div class=\"wandb-row\"><div class=\"wandb-col\"><h3>Run history:</h3><br/><table class=\"wandb\"><tr><td>epoch</td><td>▁▁▁▁▂▂▂▂▂▃▃▃▃▃▃▄▄▄▄▄▅▅▅▅▅▆▆▆▆▆▆▇▇▇▇▇████</td></tr><tr><td>test_loss</td><td>▁▁▁▂▁▃▁▁▁▂▂█▂▂▁▁▁▁▁▁▁▁▁▁▁▁▂▁▁▁▁▁▁▂▂▂▂▂▁▁</td></tr><tr><td>test_mean_accuracy</td><td>▁▃▆▇▆▆▇▇▇▇█▃▇▇█▇▇█▇██▇█▇▇▇▇█▇▇▇████▇▇▇█▇</td></tr><tr><td>test_roc_score</td><td>▁▂▃▃▆▂▆▆▅▆▆▁▆▆▇▇▇▇▇▇▇▆█▇▆▇▆█▇▇▇█▇▇▇▆▇▇█▇</td></tr><tr><td>train_loss</td><td>█▇▆▅▅▅▅▅▄▄▄▄▄▃▃▃▃▂▂▂▂▂▂▂▁▁▁▁▁▁▁▁▁▁▁▁▁▁▁▁</td></tr><tr><td>train_mean_accuracy</td><td>▁▂▃▄▄▄▄▅▅▅▅▅▆▆▆▆▇▇▇▇▇▇▇▇████████████████</td></tr><tr><td>train_roc_score</td><td>▁▃▅▅▆▆▆▆▆▆▇▇▇▇▇▇████████████████████████</td></tr></table><br/></div><div class=\"wandb-col\"><h3>Run summary:</h3><br/><table class=\"wandb\"><tr><td>epoch</td><td>59</td></tr><tr><td>test_loss</td><td>2.77181</td></tr><tr><td>test_mean_accuracy</td><td>0.84583</td></tr><tr><td>test_roc_score</td><td>0.85759</td></tr><tr><td>train_loss</td><td>0.01958</td></tr><tr><td>train_mean_accuracy</td><td>0.99284</td></tr><tr><td>train_roc_score</td><td>0.9996</td></tr></table><br/></div></div>"
            ],
            "text/plain": [
              "<IPython.core.display.HTML object>"
            ]
          },
          "metadata": {},
          "output_type": "display_data"
        },
        {
          "data": {
            "text/html": [
              " View run <strong style=\"color:#cdcd00\">resnet101</strong> at: <a href='https://wandb.ai/deelak/Idoven-ECG/runs/3a9nazo6' target=\"_blank\">https://wandb.ai/deelak/Idoven-ECG/runs/3a9nazo6</a><br/>Synced 6 W&B file(s), 0 media file(s), 1 artifact file(s) and 2 other file(s)"
            ],
            "text/plain": [
              "<IPython.core.display.HTML object>"
            ]
          },
          "metadata": {},
          "output_type": "display_data"
        },
        {
          "data": {
            "text/html": [
              "Find logs at: <code>./wandb/run-20230211_203000-3a9nazo6/logs</code>"
            ],
            "text/plain": [
              "<IPython.core.display.HTML object>"
            ]
          },
          "metadata": {},
          "output_type": "display_data"
        },
        {
          "data": {
            "text/html": [
              "Successfully finished last run (ID:3a9nazo6). Initializing new run:<br/>"
            ],
            "text/plain": [
              "<IPython.core.display.HTML object>"
            ]
          },
          "metadata": {},
          "output_type": "display_data"
        },
        {
          "data": {
            "application/vnd.jupyter.widget-view+json": {
              "model_id": "f9fb26671a8c4bb3825192c378166205",
              "version_major": 2,
              "version_minor": 0
            },
            "text/plain": [
              "VBox(children=(Label(value='Waiting for wandb.init()...\\r'), FloatProgress(value=0.01667047999993277, max=1.0)…"
            ]
          },
          "metadata": {},
          "output_type": "display_data"
        },
        {
          "data": {
            "text/html": [
              "Tracking run with wandb version 0.13.10"
            ],
            "text/plain": [
              "<IPython.core.display.HTML object>"
            ]
          },
          "metadata": {},
          "output_type": "display_data"
        },
        {
          "data": {
            "text/html": [
              "Run data is saved locally in <code>/mnt/c/Users/diego/OneDrive/Documentos/Idoven/Idoven-Data-Scientist/wandb/run-20230212_203030-vdx1ra3s</code>"
            ],
            "text/plain": [
              "<IPython.core.display.HTML object>"
            ]
          },
          "metadata": {},
          "output_type": "display_data"
        },
        {
          "data": {
            "text/html": [
              "Syncing run <strong><a href='https://wandb.ai/deelak/Idoven-ECG/runs/vdx1ra3s' target=\"_blank\">jumping-sea-8</a></strong> to <a href='https://wandb.ai/deelak/Idoven-ECG' target=\"_blank\">Weights & Biases</a> (<a href='https://wandb.me/run' target=\"_blank\">docs</a>)<br/>"
            ],
            "text/plain": [
              "<IPython.core.display.HTML object>"
            ]
          },
          "metadata": {},
          "output_type": "display_data"
        },
        {
          "data": {
            "text/html": [
              " View project at <a href='https://wandb.ai/deelak/Idoven-ECG' target=\"_blank\">https://wandb.ai/deelak/Idoven-ECG</a>"
            ],
            "text/plain": [
              "<IPython.core.display.HTML object>"
            ]
          },
          "metadata": {},
          "output_type": "display_data"
        },
        {
          "data": {
            "text/html": [
              " View run at <a href='https://wandb.ai/deelak/Idoven-ECG/runs/vdx1ra3s' target=\"_blank\">https://wandb.ai/deelak/Idoven-ECG/runs/vdx1ra3s</a>"
            ],
            "text/plain": [
              "<IPython.core.display.HTML object>"
            ]
          },
          "metadata": {},
          "output_type": "display_data"
        }
      ],
      "source": [
        "wandb_log = wandb.init(\n",
        "    # set the wandb project where this run will be logged\n",
        "    project=\"Idoven-ECG\",\n",
        "    notes=f\"Model: {model_name} with batch size: {batch_size} and epochs: {epochs}\",\n",
        "    save_code=True,\n",
        "    # track hyperparameters and run metadata\n",
        "    config={\n",
        "    \"model\": model_name,\n",
        "    \"dataset\": \"PTB-XL\",\n",
        "    \"batch_size\": batch_size,\n",
        "    \"epochs\": epochs,\n",
        "    }\n",
        ")\n",
        "logger = wandb_log"
      ]
    },
    {
      "cell_type": "code",
      "execution_count": null,
      "metadata": {},
      "outputs": [
        {
          "name": "stdout",
          "output_type": "stream",
          "text": [
            "Initial GPU Usage\n",
            "| ID | GPU | MEM |\n",
            "------------------\n",
            "|  0 |  0% | 75% |\n",
            "GPU Usage after emptying the cache\n",
            "| ID | GPU | MEM |\n",
            "------------------\n",
            "|  0 |  1% | 21% |\n"
          ]
        }
      ],
      "source": [
        "from GPUtil import showUtilization as gpu_usage\n",
        "import gc\n",
        "\n",
        "def free_gpu_cache():\n",
        "    print(\"Initial GPU Usage\")\n",
        "    gpu_usage()                             \n",
        "\n",
        "    gc.collect()\n",
        "    torch.cuda.empty_cache()\n",
        "    \n",
        "    print(\"GPU Usage after emptying the cache\")\n",
        "    gpu_usage()\n",
        "\n",
        "free_gpu_cache()   "
      ]
    },
    {
      "attachments": {},
      "cell_type": "markdown",
      "metadata": {},
      "source": [
        "## Train"
      ]
    },
    {
      "attachments": {},
      "cell_type": "markdown",
      "metadata": {},
      "source": [
        "### ResNet101"
      ]
    },
    {
      "cell_type": "code",
      "execution_count": null,
      "metadata": {},
      "outputs": [],
      "source": [
        "model_name = 'resnet101'\n",
        "batch_size = 32\n",
        "epochs = 60\n",
        "train_gen = DataGen(X_train_scale, y_train, batch_size=batch_size)\n",
        "val_gen = DataGen(X_val_scale, y_val, batch_size=batch_size)"
      ]
    },
    {
      "cell_type": "code",
      "execution_count": 12,
      "metadata": {},
      "outputs": [
        {
          "name": "stderr",
          "output_type": "stream",
          "text": [
            "train: 100%|██████████| 535/535 [05:06<00:00,  1.74it/s]\n"
          ]
        },
        {
          "name": "stdout",
          "output_type": "stream",
          "text": [
            "Epoch: 0\n",
            "Train loss:  0.5006407729933195\n",
            "\n"
          ]
        },
        {
          "name": "stderr",
          "output_type": "stream",
          "text": [
            "valid: 100%|██████████| 68/68 [00:08<00:00,  8.17it/s]\n"
          ]
        },
        {
          "name": "stdout",
          "output_type": "stream",
          "text": [
            "Test loss:  0.6075234\n"
          ]
        },
        {
          "name": "stderr",
          "output_type": "stream",
          "text": [
            "train: 100%|██████████| 535/535 [04:09<00:00,  2.14it/s]\n"
          ]
        },
        {
          "name": "stdout",
          "output_type": "stream",
          "text": [
            "Epoch: 1\n",
            "Train loss:  0.4092660224883356\n",
            "\n"
          ]
        },
        {
          "name": "stderr",
          "output_type": "stream",
          "text": [
            "valid: 100%|██████████| 68/68 [00:04<00:00, 15.08it/s]\n"
          ]
        },
        {
          "name": "stdout",
          "output_type": "stream",
          "text": [
            "Test loss:  1.8093239\n"
          ]
        },
        {
          "name": "stderr",
          "output_type": "stream",
          "text": [
            "train: 100%|██████████| 535/535 [03:23<00:00,  2.62it/s]\n"
          ]
        },
        {
          "name": "stdout",
          "output_type": "stream",
          "text": [
            "Epoch: 2\n",
            "Train loss:  0.3596460219020041\n",
            "\n"
          ]
        },
        {
          "name": "stderr",
          "output_type": "stream",
          "text": [
            "valid: 100%|██████████| 68/68 [00:04<00:00, 14.16it/s]\n"
          ]
        },
        {
          "name": "stdout",
          "output_type": "stream",
          "text": [
            "Test loss:  1.2332317\n"
          ]
        },
        {
          "name": "stderr",
          "output_type": "stream",
          "text": [
            "train: 100%|██████████| 535/535 [04:47<00:00,  1.86it/s]\n"
          ]
        },
        {
          "name": "stdout",
          "output_type": "stream",
          "text": [
            "Epoch: 3\n",
            "Train loss:  0.33785040987150694\n",
            "\n"
          ]
        },
        {
          "name": "stderr",
          "output_type": "stream",
          "text": [
            "valid: 100%|██████████| 68/68 [00:08<00:00,  8.27it/s]\n"
          ]
        },
        {
          "name": "stdout",
          "output_type": "stream",
          "text": [
            "Test loss:  2.7098403\n"
          ]
        },
        {
          "name": "stderr",
          "output_type": "stream",
          "text": [
            "train: 100%|██████████| 535/535 [04:43<00:00,  1.89it/s]\n"
          ]
        },
        {
          "name": "stdout",
          "output_type": "stream",
          "text": [
            "Epoch: 4\n",
            "Train loss:  0.32111147200671314\n",
            "\n"
          ]
        },
        {
          "name": "stderr",
          "output_type": "stream",
          "text": [
            "valid: 100%|██████████| 68/68 [00:08<00:00,  8.15it/s]\n"
          ]
        },
        {
          "name": "stdout",
          "output_type": "stream",
          "text": [
            "Test loss:  5.153042\n"
          ]
        },
        {
          "name": "stderr",
          "output_type": "stream",
          "text": [
            "train: 100%|██████████| 535/535 [04:32<00:00,  1.96it/s]\n"
          ]
        },
        {
          "name": "stdout",
          "output_type": "stream",
          "text": [
            "Epoch: 5\n",
            "Train loss:  0.3074805725609588\n",
            "\n"
          ]
        },
        {
          "name": "stderr",
          "output_type": "stream",
          "text": [
            "valid: 100%|██████████| 68/68 [00:08<00:00,  8.34it/s]\n"
          ]
        },
        {
          "name": "stdout",
          "output_type": "stream",
          "text": [
            "Test loss:  4.278855\n"
          ]
        },
        {
          "name": "stderr",
          "output_type": "stream",
          "text": [
            "train: 100%|██████████| 535/535 [03:50<00:00,  2.33it/s]\n"
          ]
        },
        {
          "name": "stdout",
          "output_type": "stream",
          "text": [
            "Epoch: 6\n",
            "Train loss:  0.29670624880590174\n",
            "\n"
          ]
        },
        {
          "name": "stderr",
          "output_type": "stream",
          "text": [
            "valid: 100%|██████████| 68/68 [00:04<00:00, 14.98it/s]\n"
          ]
        },
        {
          "name": "stdout",
          "output_type": "stream",
          "text": [
            "Test loss:  0.94413996\n"
          ]
        },
        {
          "name": "stderr",
          "output_type": "stream",
          "text": [
            "train: 100%|██████████| 535/535 [04:00<00:00,  2.22it/s]\n"
          ]
        },
        {
          "name": "stdout",
          "output_type": "stream",
          "text": [
            "Epoch: 7\n",
            "Train loss:  0.2876285874502403\n",
            "\n"
          ]
        },
        {
          "name": "stderr",
          "output_type": "stream",
          "text": [
            "valid: 100%|██████████| 68/68 [00:04<00:00, 15.01it/s]\n"
          ]
        },
        {
          "name": "stdout",
          "output_type": "stream",
          "text": [
            "Test loss:  11.279423\n"
          ]
        },
        {
          "name": "stderr",
          "output_type": "stream",
          "text": [
            "train: 100%|██████████| 535/535 [03:54<00:00,  2.28it/s]\n"
          ]
        },
        {
          "name": "stdout",
          "output_type": "stream",
          "text": [
            "Epoch: 8\n",
            "Train loss:  0.2852557631853585\n",
            "\n"
          ]
        },
        {
          "name": "stderr",
          "output_type": "stream",
          "text": [
            "valid: 100%|██████████| 68/68 [00:04<00:00, 14.94it/s]\n"
          ]
        },
        {
          "name": "stdout",
          "output_type": "stream",
          "text": [
            "Test loss:  11.881631\n"
          ]
        },
        {
          "name": "stderr",
          "output_type": "stream",
          "text": [
            "train: 100%|██████████| 535/535 [03:28<00:00,  2.56it/s]\n"
          ]
        },
        {
          "name": "stdout",
          "output_type": "stream",
          "text": [
            "Epoch: 9\n",
            "Train loss:  0.2773966789802658\n",
            "\n"
          ]
        },
        {
          "name": "stderr",
          "output_type": "stream",
          "text": [
            "valid: 100%|██████████| 68/68 [00:08<00:00,  8.36it/s]\n"
          ]
        },
        {
          "name": "stdout",
          "output_type": "stream",
          "text": [
            "Test loss:  1.0269712\n"
          ]
        },
        {
          "name": "stderr",
          "output_type": "stream",
          "text": [
            "train: 100%|██████████| 535/535 [03:58<00:00,  2.24it/s]\n"
          ]
        },
        {
          "name": "stdout",
          "output_type": "stream",
          "text": [
            "Epoch: 10\n",
            "Train loss:  0.267237000654791\n",
            "\n"
          ]
        },
        {
          "name": "stderr",
          "output_type": "stream",
          "text": [
            "valid: 100%|██████████| 68/68 [00:04<00:00, 14.96it/s]\n"
          ]
        },
        {
          "name": "stdout",
          "output_type": "stream",
          "text": [
            "Test loss:  1.6663686\n"
          ]
        },
        {
          "name": "stderr",
          "output_type": "stream",
          "text": [
            "train: 100%|██████████| 535/535 [03:24<00:00,  2.62it/s]\n"
          ]
        },
        {
          "name": "stdout",
          "output_type": "stream",
          "text": [
            "Epoch: 11\n",
            "Train loss:  0.25997844553926835\n",
            "\n"
          ]
        },
        {
          "name": "stderr",
          "output_type": "stream",
          "text": [
            "valid: 100%|██████████| 68/68 [00:04<00:00, 14.84it/s]\n"
          ]
        },
        {
          "name": "stdout",
          "output_type": "stream",
          "text": [
            "Test loss:  0.99488425\n"
          ]
        },
        {
          "name": "stderr",
          "output_type": "stream",
          "text": [
            "train: 100%|██████████| 535/535 [03:58<00:00,  2.25it/s]\n"
          ]
        },
        {
          "name": "stdout",
          "output_type": "stream",
          "text": [
            "Epoch: 12\n",
            "Train loss:  0.25216537667873584\n",
            "\n"
          ]
        },
        {
          "name": "stderr",
          "output_type": "stream",
          "text": [
            "valid: 100%|██████████| 68/68 [00:08<00:00,  8.26it/s]\n"
          ]
        },
        {
          "name": "stdout",
          "output_type": "stream",
          "text": [
            "Test loss:  3.1346037\n"
          ]
        },
        {
          "name": "stderr",
          "output_type": "stream",
          "text": [
            "train: 100%|██████████| 535/535 [04:53<00:00,  1.82it/s]\n"
          ]
        },
        {
          "name": "stdout",
          "output_type": "stream",
          "text": [
            "Epoch: 13\n",
            "Train loss:  0.24402156460542823\n",
            "\n"
          ]
        },
        {
          "name": "stderr",
          "output_type": "stream",
          "text": [
            "valid: 100%|██████████| 68/68 [00:08<00:00,  8.33it/s]\n"
          ]
        },
        {
          "name": "stdout",
          "output_type": "stream",
          "text": [
            "Test loss:  5.2902617\n"
          ]
        },
        {
          "name": "stderr",
          "output_type": "stream",
          "text": [
            "train: 100%|██████████| 535/535 [03:26<00:00,  2.59it/s]\n"
          ]
        },
        {
          "name": "stdout",
          "output_type": "stream",
          "text": [
            "Epoch: 14\n",
            "Train loss:  0.2360547017523688\n",
            "\n"
          ]
        },
        {
          "name": "stderr",
          "output_type": "stream",
          "text": [
            "valid: 100%|██████████| 68/68 [00:04<00:00, 14.70it/s]\n"
          ]
        },
        {
          "name": "stdout",
          "output_type": "stream",
          "text": [
            "Test loss:  5.358076\n"
          ]
        },
        {
          "name": "stderr",
          "output_type": "stream",
          "text": [
            "train: 100%|██████████| 535/535 [04:17<00:00,  2.08it/s]\n"
          ]
        },
        {
          "name": "stdout",
          "output_type": "stream",
          "text": [
            "Epoch: 15\n",
            "Train loss:  0.22717834292414868\n",
            "\n"
          ]
        },
        {
          "name": "stderr",
          "output_type": "stream",
          "text": [
            "valid: 100%|██████████| 68/68 [00:04<00:00, 14.78it/s]\n"
          ]
        },
        {
          "name": "stdout",
          "output_type": "stream",
          "text": [
            "Test loss:  8.08252\n"
          ]
        },
        {
          "name": "stderr",
          "output_type": "stream",
          "text": [
            "train: 100%|██████████| 535/535 [03:39<00:00,  2.44it/s]\n"
          ]
        },
        {
          "name": "stdout",
          "output_type": "stream",
          "text": [
            "Epoch: 16\n",
            "Train loss:  0.21844952299355347\n",
            "\n"
          ]
        },
        {
          "name": "stderr",
          "output_type": "stream",
          "text": [
            "valid: 100%|██████████| 68/68 [00:04<00:00, 14.71it/s]\n"
          ]
        },
        {
          "name": "stdout",
          "output_type": "stream",
          "text": [
            "Test loss:  43.03557\n"
          ]
        },
        {
          "name": "stderr",
          "output_type": "stream",
          "text": [
            "train: 100%|██████████| 535/535 [04:14<00:00,  2.10it/s]\n"
          ]
        },
        {
          "name": "stdout",
          "output_type": "stream",
          "text": [
            "Epoch: 17\n",
            "Train loss:  0.21255086766769152\n",
            "\n"
          ]
        },
        {
          "name": "stderr",
          "output_type": "stream",
          "text": [
            "valid: 100%|██████████| 68/68 [00:08<00:00,  8.30it/s]\n"
          ]
        },
        {
          "name": "stdout",
          "output_type": "stream",
          "text": [
            "Test loss:  11.845783\n"
          ]
        },
        {
          "name": "stderr",
          "output_type": "stream",
          "text": [
            "train: 100%|██████████| 535/535 [03:26<00:00,  2.59it/s]\n"
          ]
        },
        {
          "name": "stdout",
          "output_type": "stream",
          "text": [
            "Epoch: 18\n",
            "Train loss:  0.19908473566402987\n",
            "\n"
          ]
        },
        {
          "name": "stderr",
          "output_type": "stream",
          "text": [
            "valid: 100%|██████████| 68/68 [00:04<00:00, 14.69it/s]\n"
          ]
        },
        {
          "name": "stdout",
          "output_type": "stream",
          "text": [
            "Test loss:  4.5242643\n"
          ]
        },
        {
          "name": "stderr",
          "output_type": "stream",
          "text": [
            "train: 100%|██████████| 535/535 [03:21<00:00,  2.66it/s]\n"
          ]
        },
        {
          "name": "stdout",
          "output_type": "stream",
          "text": [
            "Epoch: 19\n",
            "Train loss:  0.18536927964294625\n",
            "\n"
          ]
        },
        {
          "name": "stderr",
          "output_type": "stream",
          "text": [
            "valid: 100%|██████████| 68/68 [00:04<00:00, 14.87it/s]\n"
          ]
        },
        {
          "name": "stdout",
          "output_type": "stream",
          "text": [
            "Test loss:  3.8615036\n"
          ]
        },
        {
          "name": "stderr",
          "output_type": "stream",
          "text": [
            "train: 100%|██████████| 535/535 [03:22<00:00,  2.65it/s]\n"
          ]
        },
        {
          "name": "stdout",
          "output_type": "stream",
          "text": [
            "Epoch: 20\n",
            "Train loss:  0.1741408094920427\n",
            "\n"
          ]
        },
        {
          "name": "stderr",
          "output_type": "stream",
          "text": [
            "valid: 100%|██████████| 68/68 [00:04<00:00, 14.94it/s]\n"
          ]
        },
        {
          "name": "stdout",
          "output_type": "stream",
          "text": [
            "Test loss:  6.052678\n"
          ]
        },
        {
          "name": "stderr",
          "output_type": "stream",
          "text": [
            "train: 100%|██████████| 535/535 [03:21<00:00,  2.65it/s]\n"
          ]
        },
        {
          "name": "stdout",
          "output_type": "stream",
          "text": [
            "Epoch: 21\n",
            "Train loss:  0.16388830896941609\n",
            "\n"
          ]
        },
        {
          "name": "stderr",
          "output_type": "stream",
          "text": [
            "valid: 100%|██████████| 68/68 [00:04<00:00, 14.81it/s]\n"
          ]
        },
        {
          "name": "stdout",
          "output_type": "stream",
          "text": [
            "Test loss:  3.3399057\n"
          ]
        },
        {
          "name": "stderr",
          "output_type": "stream",
          "text": [
            "train: 100%|██████████| 535/535 [03:29<00:00,  2.55it/s]\n"
          ]
        },
        {
          "name": "stdout",
          "output_type": "stream",
          "text": [
            "Epoch: 22\n",
            "Train loss:  0.15005847435193267\n",
            "\n"
          ]
        },
        {
          "name": "stderr",
          "output_type": "stream",
          "text": [
            "valid: 100%|██████████| 68/68 [00:08<00:00,  8.28it/s]\n"
          ]
        },
        {
          "name": "stdout",
          "output_type": "stream",
          "text": [
            "Test loss:  1.1504831\n"
          ]
        },
        {
          "name": "stderr",
          "output_type": "stream",
          "text": [
            "train: 100%|██████████| 535/535 [04:04<00:00,  2.18it/s]\n"
          ]
        },
        {
          "name": "stdout",
          "output_type": "stream",
          "text": [
            "Epoch: 23\n",
            "Train loss:  0.13876073046605902\n",
            "\n"
          ]
        },
        {
          "name": "stderr",
          "output_type": "stream",
          "text": [
            "valid: 100%|██████████| 68/68 [00:04<00:00, 14.77it/s]\n"
          ]
        },
        {
          "name": "stdout",
          "output_type": "stream",
          "text": [
            "Test loss:  1.0480275\n"
          ]
        },
        {
          "name": "stderr",
          "output_type": "stream",
          "text": [
            "train: 100%|██████████| 535/535 [03:19<00:00,  2.68it/s]\n"
          ]
        },
        {
          "name": "stdout",
          "output_type": "stream",
          "text": [
            "Epoch: 24\n",
            "Train loss:  0.12710813404018467\n",
            "\n"
          ]
        },
        {
          "name": "stderr",
          "output_type": "stream",
          "text": [
            "valid: 100%|██████████| 68/68 [00:04<00:00, 14.92it/s]\n"
          ]
        },
        {
          "name": "stdout",
          "output_type": "stream",
          "text": [
            "Test loss:  1.9773214\n"
          ]
        },
        {
          "name": "stderr",
          "output_type": "stream",
          "text": [
            "train: 100%|██████████| 535/535 [03:19<00:00,  2.68it/s]\n"
          ]
        },
        {
          "name": "stdout",
          "output_type": "stream",
          "text": [
            "Epoch: 25\n",
            "Train loss:  0.1202584853856585\n",
            "\n"
          ]
        },
        {
          "name": "stderr",
          "output_type": "stream",
          "text": [
            "valid: 100%|██████████| 68/68 [00:04<00:00, 14.76it/s]\n"
          ]
        },
        {
          "name": "stdout",
          "output_type": "stream",
          "text": [
            "Test loss:  1.2074882\n"
          ]
        },
        {
          "name": "stderr",
          "output_type": "stream",
          "text": [
            "train: 100%|██████████| 535/535 [03:20<00:00,  2.67it/s]\n"
          ]
        },
        {
          "name": "stdout",
          "output_type": "stream",
          "text": [
            "Epoch: 26\n",
            "Train loss:  0.11102146330107576\n",
            "\n"
          ]
        },
        {
          "name": "stderr",
          "output_type": "stream",
          "text": [
            "valid: 100%|██████████| 68/68 [00:04<00:00, 15.04it/s]\n"
          ]
        },
        {
          "name": "stdout",
          "output_type": "stream",
          "text": [
            "Test loss:  1.1843256\n"
          ]
        },
        {
          "name": "stderr",
          "output_type": "stream",
          "text": [
            "train: 100%|██████████| 535/535 [03:20<00:00,  2.67it/s]\n"
          ]
        },
        {
          "name": "stdout",
          "output_type": "stream",
          "text": [
            "Epoch: 27\n",
            "Train loss:  0.10208817600859024\n",
            "\n"
          ]
        },
        {
          "name": "stderr",
          "output_type": "stream",
          "text": [
            "valid: 100%|██████████| 68/68 [00:04<00:00, 14.70it/s]\n"
          ]
        },
        {
          "name": "stdout",
          "output_type": "stream",
          "text": [
            "Test loss:  1.5479203\n"
          ]
        },
        {
          "name": "stderr",
          "output_type": "stream",
          "text": [
            "train: 100%|██████████| 535/535 [04:08<00:00,  2.15it/s]\n"
          ]
        },
        {
          "name": "stdout",
          "output_type": "stream",
          "text": [
            "Epoch: 28\n",
            "Train loss:  0.09286711788529566\n",
            "\n"
          ]
        },
        {
          "name": "stderr",
          "output_type": "stream",
          "text": [
            "valid: 100%|██████████| 68/68 [00:08<00:00,  8.32it/s]\n"
          ]
        },
        {
          "name": "stdout",
          "output_type": "stream",
          "text": [
            "Test loss:  1.3750349\n"
          ]
        },
        {
          "name": "stderr",
          "output_type": "stream",
          "text": [
            "train: 100%|██████████| 535/535 [04:10<00:00,  2.13it/s]\n"
          ]
        },
        {
          "name": "stdout",
          "output_type": "stream",
          "text": [
            "Epoch: 29\n",
            "Train loss:  0.08909365642537302\n",
            "\n"
          ]
        },
        {
          "name": "stderr",
          "output_type": "stream",
          "text": [
            "valid: 100%|██████████| 68/68 [00:04<00:00, 14.74it/s]\n"
          ]
        },
        {
          "name": "stdout",
          "output_type": "stream",
          "text": [
            "Test loss:  1.217101\n"
          ]
        },
        {
          "name": "stderr",
          "output_type": "stream",
          "text": [
            "train: 100%|██████████| 535/535 [03:31<00:00,  2.53it/s]\n"
          ]
        },
        {
          "name": "stdout",
          "output_type": "stream",
          "text": [
            "Epoch: 30\n",
            "Train loss:  0.07978740671179561\n",
            "\n"
          ]
        },
        {
          "name": "stderr",
          "output_type": "stream",
          "text": [
            "valid: 100%|██████████| 68/68 [00:04<00:00, 14.59it/s]\n"
          ]
        },
        {
          "name": "stdout",
          "output_type": "stream",
          "text": [
            "Test loss:  1.3077421\n"
          ]
        },
        {
          "name": "stderr",
          "output_type": "stream",
          "text": [
            "train: 100%|██████████| 535/535 [04:21<00:00,  2.05it/s]\n"
          ]
        },
        {
          "name": "stdout",
          "output_type": "stream",
          "text": [
            "Epoch: 31\n",
            "Train loss:  0.07597635074509917\n",
            "\n"
          ]
        },
        {
          "name": "stderr",
          "output_type": "stream",
          "text": [
            "valid: 100%|██████████| 68/68 [00:04<00:00, 14.87it/s]\n"
          ]
        },
        {
          "name": "stdout",
          "output_type": "stream",
          "text": [
            "Test loss:  3.199258\n"
          ]
        },
        {
          "name": "stderr",
          "output_type": "stream",
          "text": [
            "train: 100%|██████████| 535/535 [03:19<00:00,  2.68it/s]\n"
          ]
        },
        {
          "name": "stdout",
          "output_type": "stream",
          "text": [
            "Epoch: 32\n",
            "Train loss:  0.0743106172157225\n",
            "\n"
          ]
        },
        {
          "name": "stderr",
          "output_type": "stream",
          "text": [
            "valid: 100%|██████████| 68/68 [00:04<00:00, 14.78it/s]\n"
          ]
        },
        {
          "name": "stdout",
          "output_type": "stream",
          "text": [
            "Test loss:  1.3874681\n"
          ]
        },
        {
          "name": "stderr",
          "output_type": "stream",
          "text": [
            "train: 100%|██████████| 535/535 [04:09<00:00,  2.14it/s]\n"
          ]
        },
        {
          "name": "stdout",
          "output_type": "stream",
          "text": [
            "Epoch: 33\n",
            "Train loss:  0.06647442964854362\n",
            "\n"
          ]
        },
        {
          "name": "stderr",
          "output_type": "stream",
          "text": [
            "valid: 100%|██████████| 68/68 [00:08<00:00,  8.32it/s]\n"
          ]
        },
        {
          "name": "stdout",
          "output_type": "stream",
          "text": [
            "Test loss:  1.898803\n"
          ]
        },
        {
          "name": "stderr",
          "output_type": "stream",
          "text": [
            "train: 100%|██████████| 535/535 [04:23<00:00,  2.03it/s]\n"
          ]
        },
        {
          "name": "stdout",
          "output_type": "stream",
          "text": [
            "Epoch: 34\n",
            "Train loss:  0.058339780348502186\n",
            "\n"
          ]
        },
        {
          "name": "stderr",
          "output_type": "stream",
          "text": [
            "valid: 100%|██████████| 68/68 [00:04<00:00, 14.87it/s]\n"
          ]
        },
        {
          "name": "stdout",
          "output_type": "stream",
          "text": [
            "Test loss:  1.8555555\n"
          ]
        },
        {
          "name": "stderr",
          "output_type": "stream",
          "text": [
            "train: 100%|██████████| 535/535 [03:18<00:00,  2.69it/s]\n"
          ]
        },
        {
          "name": "stdout",
          "output_type": "stream",
          "text": [
            "Epoch: 35\n",
            "Train loss:  0.0547579679289915\n",
            "\n"
          ]
        },
        {
          "name": "stderr",
          "output_type": "stream",
          "text": [
            "valid: 100%|██████████| 68/68 [00:04<00:00, 14.92it/s]\n"
          ]
        },
        {
          "name": "stdout",
          "output_type": "stream",
          "text": [
            "Test loss:  3.406729\n"
          ]
        },
        {
          "name": "stderr",
          "output_type": "stream",
          "text": [
            "train: 100%|██████████| 535/535 [03:16<00:00,  2.72it/s]\n"
          ]
        },
        {
          "name": "stdout",
          "output_type": "stream",
          "text": [
            "Epoch: 36\n",
            "Train loss:  0.051739281130449774\n",
            "\n"
          ]
        },
        {
          "name": "stderr",
          "output_type": "stream",
          "text": [
            "valid: 100%|██████████| 68/68 [00:04<00:00, 14.88it/s]\n"
          ]
        },
        {
          "name": "stdout",
          "output_type": "stream",
          "text": [
            "Test loss:  3.0385244\n"
          ]
        },
        {
          "name": "stderr",
          "output_type": "stream",
          "text": [
            "train: 100%|██████████| 535/535 [03:15<00:00,  2.73it/s]\n"
          ]
        },
        {
          "name": "stdout",
          "output_type": "stream",
          "text": [
            "Epoch: 37\n",
            "Train loss:  0.04966755054664742\n",
            "\n"
          ]
        },
        {
          "name": "stderr",
          "output_type": "stream",
          "text": [
            "valid: 100%|██████████| 68/68 [00:04<00:00, 14.93it/s]\n"
          ]
        },
        {
          "name": "stdout",
          "output_type": "stream",
          "text": [
            "Test loss:  2.4710116\n"
          ]
        },
        {
          "name": "stderr",
          "output_type": "stream",
          "text": [
            "train: 100%|██████████| 535/535 [03:37<00:00,  2.46it/s]\n"
          ]
        },
        {
          "name": "stdout",
          "output_type": "stream",
          "text": [
            "Epoch: 38\n",
            "Train loss:  0.04447561864540956\n",
            "\n"
          ]
        },
        {
          "name": "stderr",
          "output_type": "stream",
          "text": [
            "valid: 100%|██████████| 68/68 [00:08<00:00,  8.36it/s]\n"
          ]
        },
        {
          "name": "stdout",
          "output_type": "stream",
          "text": [
            "Test loss:  2.486537\n"
          ]
        },
        {
          "name": "stderr",
          "output_type": "stream",
          "text": [
            "train: 100%|██████████| 535/535 [03:35<00:00,  2.48it/s]\n"
          ]
        },
        {
          "name": "stdout",
          "output_type": "stream",
          "text": [
            "Epoch: 39\n",
            "Train loss:  0.04291657203059649\n",
            "\n"
          ]
        },
        {
          "name": "stderr",
          "output_type": "stream",
          "text": [
            "valid: 100%|██████████| 68/68 [00:04<00:00, 14.86it/s]\n"
          ]
        },
        {
          "name": "stdout",
          "output_type": "stream",
          "text": [
            "Test loss:  4.0985603\n"
          ]
        },
        {
          "name": "stderr",
          "output_type": "stream",
          "text": [
            "train: 100%|██████████| 535/535 [03:32<00:00,  2.52it/s]\n"
          ]
        },
        {
          "name": "stdout",
          "output_type": "stream",
          "text": [
            "Epoch: 40\n",
            "Train loss:  0.04207379919241751\n",
            "\n"
          ]
        },
        {
          "name": "stderr",
          "output_type": "stream",
          "text": [
            "valid: 100%|██████████| 68/68 [00:04<00:00, 14.99it/s]\n"
          ]
        },
        {
          "name": "stdout",
          "output_type": "stream",
          "text": [
            "Test loss:  2.1071374\n"
          ]
        },
        {
          "name": "stderr",
          "output_type": "stream",
          "text": [
            "train: 100%|██████████| 535/535 [03:15<00:00,  2.74it/s]\n"
          ]
        },
        {
          "name": "stdout",
          "output_type": "stream",
          "text": [
            "Epoch: 41\n",
            "Train loss:  0.03662539214505074\n",
            "\n"
          ]
        },
        {
          "name": "stderr",
          "output_type": "stream",
          "text": [
            "valid: 100%|██████████| 68/68 [00:04<00:00, 14.84it/s]\n"
          ]
        },
        {
          "name": "stdout",
          "output_type": "stream",
          "text": [
            "Test loss:  2.0869694\n"
          ]
        },
        {
          "name": "stderr",
          "output_type": "stream",
          "text": [
            "train: 100%|██████████| 535/535 [03:18<00:00,  2.69it/s]\n"
          ]
        },
        {
          "name": "stdout",
          "output_type": "stream",
          "text": [
            "Epoch: 42\n",
            "Train loss:  0.03737750136032352\n",
            "\n"
          ]
        },
        {
          "name": "stderr",
          "output_type": "stream",
          "text": [
            "valid: 100%|██████████| 68/68 [00:04<00:00, 14.94it/s]\n"
          ]
        },
        {
          "name": "stdout",
          "output_type": "stream",
          "text": [
            "Test loss:  2.6967068\n"
          ]
        },
        {
          "name": "stderr",
          "output_type": "stream",
          "text": [
            "train: 100%|██████████| 535/535 [03:15<00:00,  2.74it/s]\n"
          ]
        },
        {
          "name": "stdout",
          "output_type": "stream",
          "text": [
            "Epoch: 43\n",
            "Train loss:  0.03238477980317635\n",
            "\n"
          ]
        },
        {
          "name": "stderr",
          "output_type": "stream",
          "text": [
            "valid: 100%|██████████| 68/68 [00:04<00:00, 14.99it/s]\n"
          ]
        },
        {
          "name": "stdout",
          "output_type": "stream",
          "text": [
            "Test loss:  2.6664183\n"
          ]
        },
        {
          "name": "stderr",
          "output_type": "stream",
          "text": [
            "train: 100%|██████████| 535/535 [04:11<00:00,  2.13it/s]\n"
          ]
        },
        {
          "name": "stdout",
          "output_type": "stream",
          "text": [
            "Epoch: 44\n",
            "Train loss:  0.031016921877216892\n",
            "\n"
          ]
        },
        {
          "name": "stderr",
          "output_type": "stream",
          "text": [
            "valid: 100%|██████████| 68/68 [00:08<00:00,  8.37it/s]\n"
          ]
        },
        {
          "name": "stdout",
          "output_type": "stream",
          "text": [
            "Test loss:  5.037631\n"
          ]
        },
        {
          "name": "stderr",
          "output_type": "stream",
          "text": [
            "train: 100%|██████████| 535/535 [03:39<00:00,  2.44it/s]\n"
          ]
        },
        {
          "name": "stdout",
          "output_type": "stream",
          "text": [
            "Epoch: 45\n",
            "Train loss:  0.0340993906085802\n",
            "\n"
          ]
        },
        {
          "name": "stderr",
          "output_type": "stream",
          "text": [
            "valid: 100%|██████████| 68/68 [00:04<00:00, 14.54it/s]\n"
          ]
        },
        {
          "name": "stdout",
          "output_type": "stream",
          "text": [
            "Test loss:  3.2398357\n"
          ]
        },
        {
          "name": "stderr",
          "output_type": "stream",
          "text": [
            "train: 100%|██████████| 535/535 [03:19<00:00,  2.68it/s]\n"
          ]
        },
        {
          "name": "stdout",
          "output_type": "stream",
          "text": [
            "Epoch: 46\n",
            "Train loss:  0.03153377344065877\n",
            "\n"
          ]
        },
        {
          "name": "stderr",
          "output_type": "stream",
          "text": [
            "valid: 100%|██████████| 68/68 [00:04<00:00, 14.93it/s]\n"
          ]
        },
        {
          "name": "stdout",
          "output_type": "stream",
          "text": [
            "Test loss:  2.5187712\n"
          ]
        },
        {
          "name": "stderr",
          "output_type": "stream",
          "text": [
            "train: 100%|██████████| 535/535 [04:26<00:00,  2.00it/s]\n"
          ]
        },
        {
          "name": "stdout",
          "output_type": "stream",
          "text": [
            "Epoch: 47\n",
            "Train loss:  0.028049138190494583\n",
            "\n"
          ]
        },
        {
          "name": "stderr",
          "output_type": "stream",
          "text": [
            "valid: 100%|██████████| 68/68 [00:04<00:00, 14.96it/s]\n"
          ]
        },
        {
          "name": "stdout",
          "output_type": "stream",
          "text": [
            "Test loss:  4.1531277\n"
          ]
        },
        {
          "name": "stderr",
          "output_type": "stream",
          "text": [
            "train: 100%|██████████| 535/535 [03:18<00:00,  2.70it/s]\n"
          ]
        },
        {
          "name": "stdout",
          "output_type": "stream",
          "text": [
            "Epoch: 48\n",
            "Train loss:  0.02273094563804938\n",
            "\n"
          ]
        },
        {
          "name": "stderr",
          "output_type": "stream",
          "text": [
            "valid: 100%|██████████| 68/68 [00:04<00:00, 15.00it/s]\n"
          ]
        },
        {
          "name": "stdout",
          "output_type": "stream",
          "text": [
            "Test loss:  3.2035143\n"
          ]
        },
        {
          "name": "stderr",
          "output_type": "stream",
          "text": [
            "train: 100%|██████████| 535/535 [03:58<00:00,  2.25it/s]\n"
          ]
        },
        {
          "name": "stdout",
          "output_type": "stream",
          "text": [
            "Epoch: 49\n",
            "Train loss:  0.029018960893371745\n",
            "\n"
          ]
        },
        {
          "name": "stderr",
          "output_type": "stream",
          "text": [
            "valid: 100%|██████████| 68/68 [00:08<00:00,  8.38it/s]\n"
          ]
        },
        {
          "name": "stdout",
          "output_type": "stream",
          "text": [
            "Test loss:  3.8815181\n"
          ]
        },
        {
          "name": "stderr",
          "output_type": "stream",
          "text": [
            "train: 100%|██████████| 535/535 [03:37<00:00,  2.46it/s]\n"
          ]
        },
        {
          "name": "stdout",
          "output_type": "stream",
          "text": [
            "Epoch: 50\n",
            "Train loss:  0.02824308459398937\n",
            "\n"
          ]
        },
        {
          "name": "stderr",
          "output_type": "stream",
          "text": [
            "valid: 100%|██████████| 68/68 [00:04<00:00, 14.91it/s]\n"
          ]
        },
        {
          "name": "stdout",
          "output_type": "stream",
          "text": [
            "Test loss:  5.1940517\n"
          ]
        },
        {
          "name": "stderr",
          "output_type": "stream",
          "text": [
            "train: 100%|██████████| 535/535 [03:22<00:00,  2.65it/s]\n"
          ]
        },
        {
          "name": "stdout",
          "output_type": "stream",
          "text": [
            "Epoch: 51\n",
            "Train loss:  0.024540709877086286\n",
            "\n"
          ]
        },
        {
          "name": "stderr",
          "output_type": "stream",
          "text": [
            "valid: 100%|██████████| 68/68 [00:04<00:00, 14.89it/s]\n"
          ]
        },
        {
          "name": "stdout",
          "output_type": "stream",
          "text": [
            "Test loss:  4.3546896\n"
          ]
        },
        {
          "name": "stderr",
          "output_type": "stream",
          "text": [
            "train: 100%|██████████| 535/535 [03:17<00:00,  2.71it/s]\n"
          ]
        },
        {
          "name": "stdout",
          "output_type": "stream",
          "text": [
            "Epoch: 52\n",
            "Train loss:  0.026906643809411223\n",
            "\n"
          ]
        },
        {
          "name": "stderr",
          "output_type": "stream",
          "text": [
            "valid: 100%|██████████| 68/68 [00:04<00:00, 14.74it/s]\n"
          ]
        },
        {
          "name": "stdout",
          "output_type": "stream",
          "text": [
            "Test loss:  5.2295265\n"
          ]
        },
        {
          "name": "stderr",
          "output_type": "stream",
          "text": [
            "train: 100%|██████████| 535/535 [03:20<00:00,  2.67it/s]\n"
          ]
        },
        {
          "name": "stdout",
          "output_type": "stream",
          "text": [
            "Epoch: 53\n",
            "Train loss:  0.02495867947661885\n",
            "\n"
          ]
        },
        {
          "name": "stderr",
          "output_type": "stream",
          "text": [
            "valid: 100%|██████████| 68/68 [00:04<00:00, 14.82it/s]\n"
          ]
        },
        {
          "name": "stdout",
          "output_type": "stream",
          "text": [
            "Test loss:  2.8913941\n"
          ]
        },
        {
          "name": "stderr",
          "output_type": "stream",
          "text": [
            "train: 100%|██████████| 535/535 [03:24<00:00,  2.62it/s]\n"
          ]
        },
        {
          "name": "stdout",
          "output_type": "stream",
          "text": [
            "Epoch: 54\n",
            "Train loss:  0.019632527074837723\n",
            "\n"
          ]
        },
        {
          "name": "stderr",
          "output_type": "stream",
          "text": [
            "valid: 100%|██████████| 68/68 [00:04<00:00, 14.74it/s]\n"
          ]
        },
        {
          "name": "stdout",
          "output_type": "stream",
          "text": [
            "Test loss:  4.761365\n"
          ]
        },
        {
          "name": "stderr",
          "output_type": "stream",
          "text": [
            "train: 100%|██████████| 535/535 [04:01<00:00,  2.22it/s]\n"
          ]
        },
        {
          "name": "stdout",
          "output_type": "stream",
          "text": [
            "Epoch: 55\n",
            "Train loss:  0.02389747251483692\n",
            "\n"
          ]
        },
        {
          "name": "stderr",
          "output_type": "stream",
          "text": [
            "valid: 100%|██████████| 68/68 [00:04<00:00, 14.96it/s]\n"
          ]
        },
        {
          "name": "stdout",
          "output_type": "stream",
          "text": [
            "Test loss:  3.7271898\n"
          ]
        },
        {
          "name": "stderr",
          "output_type": "stream",
          "text": [
            "train: 100%|██████████| 535/535 [03:19<00:00,  2.68it/s]\n"
          ]
        },
        {
          "name": "stdout",
          "output_type": "stream",
          "text": [
            "Epoch: 56\n",
            "Train loss:  0.017346727112324465\n",
            "\n"
          ]
        },
        {
          "name": "stderr",
          "output_type": "stream",
          "text": [
            "valid: 100%|██████████| 68/68 [00:04<00:00, 14.59it/s]\n"
          ]
        },
        {
          "name": "stdout",
          "output_type": "stream",
          "text": [
            "Test loss:  2.748745\n"
          ]
        },
        {
          "name": "stderr",
          "output_type": "stream",
          "text": [
            "train: 100%|██████████| 535/535 [03:23<00:00,  2.62it/s]\n"
          ]
        },
        {
          "name": "stdout",
          "output_type": "stream",
          "text": [
            "Epoch: 57\n",
            "Train loss:  0.02316759469135959\n",
            "\n"
          ]
        },
        {
          "name": "stderr",
          "output_type": "stream",
          "text": [
            "valid: 100%|██████████| 68/68 [00:04<00:00, 14.89it/s]\n"
          ]
        },
        {
          "name": "stdout",
          "output_type": "stream",
          "text": [
            "Test loss:  1.8446122\n"
          ]
        },
        {
          "name": "stderr",
          "output_type": "stream",
          "text": [
            "train: 100%|██████████| 535/535 [03:17<00:00,  2.71it/s]\n"
          ]
        },
        {
          "name": "stdout",
          "output_type": "stream",
          "text": [
            "Epoch: 58\n",
            "Train loss:  0.017923867201767685\n",
            "\n"
          ]
        },
        {
          "name": "stderr",
          "output_type": "stream",
          "text": [
            "valid: 100%|██████████| 68/68 [00:04<00:00, 14.74it/s]\n"
          ]
        },
        {
          "name": "stdout",
          "output_type": "stream",
          "text": [
            "Test loss:  2.1278684\n"
          ]
        },
        {
          "name": "stderr",
          "output_type": "stream",
          "text": [
            "train: 100%|██████████| 535/535 [03:16<00:00,  2.73it/s]\n"
          ]
        },
        {
          "name": "stdout",
          "output_type": "stream",
          "text": [
            "Epoch: 59\n",
            "Train loss:  0.01957619618428865\n",
            "\n"
          ]
        },
        {
          "name": "stderr",
          "output_type": "stream",
          "text": [
            "valid: 100%|██████████| 68/68 [00:04<00:00, 14.85it/s]\n"
          ]
        },
        {
          "name": "stdout",
          "output_type": "stream",
          "text": [
            "Test loss:  2.7718074\n"
          ]
        }
      ],
      "source": [
        "train(\n",
        "    model_name=model_name,\n",
        "    train_gen=train_gen,\n",
        "    val_gen=val_gen,\n",
        "    batch_size=batch_size,\n",
        "    epochs=epochs,\n",
        "    loggr=logger,\n",
        "    name=model_name,\n",
        ")"
      ]
    },
    {
      "attachments": {},
      "cell_type": "markdown",
      "metadata": {},
      "source": [
        "### ECGNet"
      ]
    },
    {
      "cell_type": "code",
      "execution_count": 59,
      "metadata": {},
      "outputs": [],
      "source": [
        "model_name = 'ECGNet'\n",
        "batch_size = 32\n",
        "epochs = 60\n",
        "# train_gen = DataGen(X_train_scale, y_train, batch_size=batch_size)\n",
        "# val_gen = DataGen(X_val_scale, y_val, batch_size=batch_size)"
      ]
    },
    {
      "cell_type": "code",
      "execution_count": 60,
      "metadata": {},
      "outputs": [
        {
          "name": "stderr",
          "output_type": "stream",
          "text": [
            "train: 100%|██████████| 535/535 [04:01<00:00,  2.21it/s]\n",
            "Exception in thread SockSrvRdThr:\n",
            "Traceback (most recent call last):\n",
            "  File \"/home/deelak/miniconda3/envs/idoven/lib/python3.9/threading.py\", line 980, in _bootstrap_inner\n"
          ]
        },
        {
          "name": "stdout",
          "output_type": "stream",
          "text": [
            "Epoch: 0\n",
            "Train loss:  0.4831640505066542\n",
            "\n"
          ]
        },
        {
          "name": "stderr",
          "output_type": "stream",
          "text": [
            "valid:   0%|          | 0/68 [00:00<?, ?it/s]    self.run()\n",
            "  File \"/home/deelak/miniconda3/envs/idoven/lib/python3.9/site-packages/wandb/sdk/service/server_sock.py\", line 112, in run\n",
            "    shandler(sreq)\n",
            "  File \"/home/deelak/miniconda3/envs/idoven/lib/python3.9/site-packages/wandb/sdk/service/server_sock.py\", line 174, in server_record_publish\n",
            "    iface = self._mux.get_stream(stream_id).interface\n",
            "  File \"/home/deelak/miniconda3/envs/idoven/lib/python3.9/site-packages/wandb/sdk/service/streams.py\", line 206, in get_stream\n",
            "    stream = self._streams[stream_id]\n",
            "KeyError: 'vdx1ra3s'\n",
            "valid: 100%|██████████| 68/68 [00:05<00:00, 12.33it/s]\n"
          ]
        },
        {
          "name": "stdout",
          "output_type": "stream",
          "text": [
            "Test loss:  35.39106\n"
          ]
        },
        {
          "name": "stderr",
          "output_type": "stream",
          "text": [
            "train: 100%|██████████| 535/535 [04:57<00:00,  1.80it/s]\n"
          ]
        },
        {
          "name": "stdout",
          "output_type": "stream",
          "text": [
            "Epoch: 1\n",
            "Train loss:  0.4243458477414657\n",
            "\n"
          ]
        },
        {
          "name": "stderr",
          "output_type": "stream",
          "text": [
            "valid: 100%|██████████| 68/68 [00:05<00:00, 13.07it/s]\n"
          ]
        },
        {
          "name": "stdout",
          "output_type": "stream",
          "text": [
            "Test loss:  18.277857\n"
          ]
        },
        {
          "name": "stderr",
          "output_type": "stream",
          "text": [
            "train: 100%|██████████| 535/535 [03:59<00:00,  2.23it/s]\n"
          ]
        },
        {
          "name": "stdout",
          "output_type": "stream",
          "text": [
            "Epoch: 2\n",
            "Train loss:  0.3887293535415257\n",
            "\n"
          ]
        },
        {
          "name": "stderr",
          "output_type": "stream",
          "text": [
            "valid: 100%|██████████| 68/68 [00:05<00:00, 13.28it/s]\n"
          ]
        },
        {
          "name": "stdout",
          "output_type": "stream",
          "text": [
            "Test loss:  1.2301935\n"
          ]
        },
        {
          "name": "stderr",
          "output_type": "stream",
          "text": [
            "train: 100%|██████████| 535/535 [04:07<00:00,  2.16it/s]\n"
          ]
        },
        {
          "name": "stdout",
          "output_type": "stream",
          "text": [
            "Epoch: 3\n",
            "Train loss:  0.35664684853264106\n",
            "\n"
          ]
        },
        {
          "name": "stderr",
          "output_type": "stream",
          "text": [
            "valid: 100%|██████████| 68/68 [00:08<00:00,  7.83it/s]\n"
          ]
        },
        {
          "name": "stdout",
          "output_type": "stream",
          "text": [
            "Test loss:  3.7783911\n"
          ]
        },
        {
          "name": "stderr",
          "output_type": "stream",
          "text": [
            "train: 100%|██████████| 535/535 [04:34<00:00,  1.95it/s]\n"
          ]
        },
        {
          "name": "stdout",
          "output_type": "stream",
          "text": [
            "Epoch: 4\n",
            "Train loss:  0.3494955259088044\n",
            "\n"
          ]
        },
        {
          "name": "stderr",
          "output_type": "stream",
          "text": [
            "valid: 100%|██████████| 68/68 [00:05<00:00, 12.76it/s]\n"
          ]
        },
        {
          "name": "stdout",
          "output_type": "stream",
          "text": [
            "Test loss:  0.34271947\n"
          ]
        },
        {
          "name": "stderr",
          "output_type": "stream",
          "text": [
            "train: 100%|██████████| 535/535 [03:54<00:00,  2.28it/s]\n"
          ]
        },
        {
          "name": "stdout",
          "output_type": "stream",
          "text": [
            "Epoch: 5\n",
            "Train loss:  0.33357428771870157\n",
            "\n"
          ]
        },
        {
          "name": "stderr",
          "output_type": "stream",
          "text": [
            "valid: 100%|██████████| 68/68 [00:09<00:00,  7.34it/s]\n"
          ]
        },
        {
          "name": "stdout",
          "output_type": "stream",
          "text": [
            "Test loss:  12.090037\n"
          ]
        },
        {
          "name": "stderr",
          "output_type": "stream",
          "text": [
            "train: 100%|██████████| 535/535 [05:26<00:00,  1.64it/s]\n"
          ]
        },
        {
          "name": "stdout",
          "output_type": "stream",
          "text": [
            "Epoch: 6\n",
            "Train loss:  0.32270117847370766\n",
            "\n"
          ]
        },
        {
          "name": "stderr",
          "output_type": "stream",
          "text": [
            "valid: 100%|██████████| 68/68 [00:09<00:00,  7.50it/s]\n"
          ]
        },
        {
          "name": "stdout",
          "output_type": "stream",
          "text": [
            "Test loss:  35.94057\n"
          ]
        },
        {
          "name": "stderr",
          "output_type": "stream",
          "text": [
            "train: 100%|██████████| 535/535 [05:30<00:00,  1.62it/s]\n"
          ]
        },
        {
          "name": "stdout",
          "output_type": "stream",
          "text": [
            "Epoch: 7\n",
            "Train loss:  0.3079084737487485\n",
            "\n"
          ]
        },
        {
          "name": "stderr",
          "output_type": "stream",
          "text": [
            "valid: 100%|██████████| 68/68 [00:09<00:00,  7.22it/s]\n"
          ]
        },
        {
          "name": "stdout",
          "output_type": "stream",
          "text": [
            "Test loss:  6.3041086\n"
          ]
        },
        {
          "name": "stderr",
          "output_type": "stream",
          "text": [
            "train: 100%|██████████| 535/535 [05:03<00:00,  1.76it/s]\n"
          ]
        },
        {
          "name": "stdout",
          "output_type": "stream",
          "text": [
            "Epoch: 8\n",
            "Train loss:  0.2950906182282439\n",
            "\n"
          ]
        },
        {
          "name": "stderr",
          "output_type": "stream",
          "text": [
            "valid: 100%|██████████| 68/68 [00:09<00:00,  7.26it/s]\n"
          ]
        },
        {
          "name": "stdout",
          "output_type": "stream",
          "text": [
            "Test loss:  6.3946033\n"
          ]
        },
        {
          "name": "stderr",
          "output_type": "stream",
          "text": [
            "train: 100%|██████████| 535/535 [05:22<00:00,  1.66it/s]\n"
          ]
        },
        {
          "name": "stdout",
          "output_type": "stream",
          "text": [
            "Epoch: 9\n",
            "Train loss:  0.2867830405011773\n",
            "\n"
          ]
        },
        {
          "name": "stderr",
          "output_type": "stream",
          "text": [
            "valid: 100%|██████████| 68/68 [00:09<00:00,  7.28it/s]\n"
          ]
        },
        {
          "name": "stdout",
          "output_type": "stream",
          "text": [
            "Test loss:  7.4325905\n"
          ]
        },
        {
          "name": "stderr",
          "output_type": "stream",
          "text": [
            "train: 100%|██████████| 535/535 [03:53<00:00,  2.29it/s]\n"
          ]
        },
        {
          "name": "stdout",
          "output_type": "stream",
          "text": [
            "Epoch: 10\n",
            "Train loss:  0.27932693933215097\n",
            "\n"
          ]
        },
        {
          "name": "stderr",
          "output_type": "stream",
          "text": [
            "valid: 100%|██████████| 68/68 [00:04<00:00, 14.05it/s]\n"
          ]
        },
        {
          "name": "stdout",
          "output_type": "stream",
          "text": [
            "Test loss:  31.068249\n"
          ]
        },
        {
          "name": "stderr",
          "output_type": "stream",
          "text": [
            "train: 100%|██████████| 535/535 [03:36<00:00,  2.47it/s]\n"
          ]
        },
        {
          "name": "stdout",
          "output_type": "stream",
          "text": [
            "Epoch: 11\n",
            "Train loss:  0.286709801281724\n",
            "\n"
          ]
        },
        {
          "name": "stderr",
          "output_type": "stream",
          "text": [
            "valid: 100%|██████████| 68/68 [00:04<00:00, 13.91it/s]\n"
          ]
        },
        {
          "name": "stdout",
          "output_type": "stream",
          "text": [
            "Test loss:  35.01036\n"
          ]
        },
        {
          "name": "stderr",
          "output_type": "stream",
          "text": [
            "train: 100%|██████████| 535/535 [03:34<00:00,  2.49it/s]\n"
          ]
        },
        {
          "name": "stdout",
          "output_type": "stream",
          "text": [
            "Epoch: 12\n",
            "Train loss:  0.2928865172317095\n",
            "\n"
          ]
        },
        {
          "name": "stderr",
          "output_type": "stream",
          "text": [
            "valid: 100%|██████████| 68/68 [00:04<00:00, 13.96it/s]\n"
          ]
        },
        {
          "name": "stdout",
          "output_type": "stream",
          "text": [
            "Test loss:  4.058406\n"
          ]
        },
        {
          "name": "stderr",
          "output_type": "stream",
          "text": [
            "train: 100%|██████████| 535/535 [03:35<00:00,  2.48it/s]\n"
          ]
        },
        {
          "name": "stdout",
          "output_type": "stream",
          "text": [
            "Epoch: 13\n",
            "Train loss:  0.2684641653410742\n",
            "\n"
          ]
        },
        {
          "name": "stderr",
          "output_type": "stream",
          "text": [
            "valid: 100%|██████████| 68/68 [00:04<00:00, 13.80it/s]\n"
          ]
        },
        {
          "name": "stdout",
          "output_type": "stream",
          "text": [
            "Test loss:  0.97793657\n"
          ]
        },
        {
          "name": "stderr",
          "output_type": "stream",
          "text": [
            "train: 100%|██████████| 535/535 [03:35<00:00,  2.48it/s]\n"
          ]
        },
        {
          "name": "stdout",
          "output_type": "stream",
          "text": [
            "Epoch: 14\n",
            "Train loss:  0.2627219499567541\n",
            "\n"
          ]
        },
        {
          "name": "stderr",
          "output_type": "stream",
          "text": [
            "valid: 100%|██████████| 68/68 [00:04<00:00, 13.86it/s]\n"
          ]
        },
        {
          "name": "stdout",
          "output_type": "stream",
          "text": [
            "Test loss:  1.4327016\n"
          ]
        },
        {
          "name": "stderr",
          "output_type": "stream",
          "text": [
            "train: 100%|██████████| 535/535 [05:09<00:00,  1.73it/s]\n"
          ]
        },
        {
          "name": "stdout",
          "output_type": "stream",
          "text": [
            "Epoch: 15\n",
            "Train loss:  0.25635375462289656\n",
            "\n"
          ]
        },
        {
          "name": "stderr",
          "output_type": "stream",
          "text": [
            "valid: 100%|██████████| 68/68 [00:08<00:00,  7.89it/s]\n"
          ]
        },
        {
          "name": "stdout",
          "output_type": "stream",
          "text": [
            "Test loss:  5.1007094\n"
          ]
        },
        {
          "name": "stderr",
          "output_type": "stream",
          "text": [
            "train: 100%|██████████| 535/535 [04:41<00:00,  1.90it/s]\n"
          ]
        },
        {
          "name": "stdout",
          "output_type": "stream",
          "text": [
            "Epoch: 16\n",
            "Train loss:  0.24766225589952806\n",
            "\n"
          ]
        },
        {
          "name": "stderr",
          "output_type": "stream",
          "text": [
            "valid: 100%|██████████| 68/68 [00:04<00:00, 13.90it/s]\n"
          ]
        },
        {
          "name": "stdout",
          "output_type": "stream",
          "text": [
            "Test loss:  5.853069\n"
          ]
        },
        {
          "name": "stderr",
          "output_type": "stream",
          "text": [
            "train: 100%|██████████| 535/535 [03:47<00:00,  2.35it/s]\n"
          ]
        },
        {
          "name": "stdout",
          "output_type": "stream",
          "text": [
            "Epoch: 17\n",
            "Train loss:  0.24268233698257463\n",
            "\n"
          ]
        },
        {
          "name": "stderr",
          "output_type": "stream",
          "text": [
            "valid: 100%|██████████| 68/68 [00:08<00:00,  7.92it/s]\n"
          ]
        },
        {
          "name": "stdout",
          "output_type": "stream",
          "text": [
            "Test loss:  2.7214794\n"
          ]
        },
        {
          "name": "stderr",
          "output_type": "stream",
          "text": [
            "train: 100%|██████████| 535/535 [05:09<00:00,  1.73it/s]\n"
          ]
        },
        {
          "name": "stdout",
          "output_type": "stream",
          "text": [
            "Epoch: 18\n",
            "Train loss:  0.23427877090719015\n",
            "\n"
          ]
        },
        {
          "name": "stderr",
          "output_type": "stream",
          "text": [
            "valid: 100%|██████████| 68/68 [00:08<00:00,  7.91it/s]\n"
          ]
        },
        {
          "name": "stdout",
          "output_type": "stream",
          "text": [
            "Test loss:  1.2998847\n"
          ]
        },
        {
          "name": "stderr",
          "output_type": "stream",
          "text": [
            "train: 100%|██████████| 535/535 [05:08<00:00,  1.73it/s]\n"
          ]
        },
        {
          "name": "stdout",
          "output_type": "stream",
          "text": [
            "Epoch: 19\n",
            "Train loss:  0.22691091036611175\n",
            "\n"
          ]
        },
        {
          "name": "stderr",
          "output_type": "stream",
          "text": [
            "valid: 100%|██████████| 68/68 [00:08<00:00,  7.91it/s]\n"
          ]
        },
        {
          "name": "stdout",
          "output_type": "stream",
          "text": [
            "Test loss:  1.4527129\n"
          ]
        },
        {
          "name": "stderr",
          "output_type": "stream",
          "text": [
            "train: 100%|██████████| 535/535 [04:16<00:00,  2.09it/s]\n"
          ]
        },
        {
          "name": "stdout",
          "output_type": "stream",
          "text": [
            "Epoch: 20\n",
            "Train loss:  0.2211633825368927\n",
            "\n"
          ]
        },
        {
          "name": "stderr",
          "output_type": "stream",
          "text": [
            "valid: 100%|██████████| 68/68 [00:04<00:00, 14.01it/s]\n"
          ]
        },
        {
          "name": "stdout",
          "output_type": "stream",
          "text": [
            "Test loss:  0.9335417\n"
          ]
        },
        {
          "name": "stderr",
          "output_type": "stream",
          "text": [
            "train: 100%|██████████| 535/535 [04:17<00:00,  2.08it/s]\n"
          ]
        },
        {
          "name": "stdout",
          "output_type": "stream",
          "text": [
            "Epoch: 21\n",
            "Train loss:  0.21094569170860591\n",
            "\n"
          ]
        },
        {
          "name": "stderr",
          "output_type": "stream",
          "text": [
            "valid: 100%|██████████| 68/68 [00:08<00:00,  7.90it/s]\n"
          ]
        },
        {
          "name": "stdout",
          "output_type": "stream",
          "text": [
            "Test loss:  4.4859385\n"
          ]
        },
        {
          "name": "stderr",
          "output_type": "stream",
          "text": [
            "train: 100%|██████████| 535/535 [04:12<00:00,  2.12it/s]\n"
          ]
        },
        {
          "name": "stdout",
          "output_type": "stream",
          "text": [
            "Epoch: 22\n",
            "Train loss:  0.19985008240907526\n",
            "\n"
          ]
        },
        {
          "name": "stderr",
          "output_type": "stream",
          "text": [
            "valid: 100%|██████████| 68/68 [00:05<00:00, 13.44it/s]\n"
          ]
        },
        {
          "name": "stdout",
          "output_type": "stream",
          "text": [
            "Test loss:  3.058781\n"
          ]
        },
        {
          "name": "stderr",
          "output_type": "stream",
          "text": [
            "train: 100%|██████████| 535/535 [04:14<00:00,  2.10it/s]\n"
          ]
        },
        {
          "name": "stdout",
          "output_type": "stream",
          "text": [
            "Epoch: 23\n",
            "Train loss:  0.18965607453156677\n",
            "\n"
          ]
        },
        {
          "name": "stderr",
          "output_type": "stream",
          "text": [
            "valid: 100%|██████████| 68/68 [00:04<00:00, 13.71it/s]\n"
          ]
        },
        {
          "name": "stdout",
          "output_type": "stream",
          "text": [
            "Test loss:  1.9860829\n"
          ]
        },
        {
          "name": "stderr",
          "output_type": "stream",
          "text": [
            "train: 100%|██████████| 535/535 [04:51<00:00,  1.84it/s]\n"
          ]
        },
        {
          "name": "stdout",
          "output_type": "stream",
          "text": [
            "Epoch: 24\n",
            "Train loss:  0.1774470117299983\n",
            "\n"
          ]
        },
        {
          "name": "stderr",
          "output_type": "stream",
          "text": [
            "valid: 100%|██████████| 68/68 [00:07<00:00,  8.97it/s]\n"
          ]
        },
        {
          "name": "stdout",
          "output_type": "stream",
          "text": [
            "Test loss:  2.2756813\n"
          ]
        },
        {
          "name": "stderr",
          "output_type": "stream",
          "text": [
            "train: 100%|██████████| 535/535 [04:30<00:00,  1.98it/s]\n"
          ]
        },
        {
          "name": "stdout",
          "output_type": "stream",
          "text": [
            "Epoch: 25\n",
            "Train loss:  0.16511156236944355\n",
            "\n"
          ]
        },
        {
          "name": "stderr",
          "output_type": "stream",
          "text": [
            "valid: 100%|██████████| 68/68 [00:06<00:00, 10.45it/s]\n"
          ]
        },
        {
          "name": "stdout",
          "output_type": "stream",
          "text": [
            "Test loss:  1.3055423\n"
          ]
        },
        {
          "name": "stderr",
          "output_type": "stream",
          "text": [
            "train: 100%|██████████| 535/535 [04:47<00:00,  1.86it/s]\n"
          ]
        },
        {
          "name": "stdout",
          "output_type": "stream",
          "text": [
            "Epoch: 26\n",
            "Train loss:  0.1526378142673557\n",
            "\n"
          ]
        },
        {
          "name": "stderr",
          "output_type": "stream",
          "text": [
            "valid: 100%|██████████| 68/68 [00:08<00:00,  7.70it/s]\n"
          ]
        },
        {
          "name": "stdout",
          "output_type": "stream",
          "text": [
            "Test loss:  0.7927225\n"
          ]
        },
        {
          "name": "stderr",
          "output_type": "stream",
          "text": [
            "train: 100%|██████████| 535/535 [05:10<00:00,  1.72it/s]\n"
          ]
        },
        {
          "name": "stdout",
          "output_type": "stream",
          "text": [
            "Epoch: 27\n",
            "Train loss:  0.1431929970077422\n",
            "\n"
          ]
        },
        {
          "name": "stderr",
          "output_type": "stream",
          "text": [
            "valid: 100%|██████████| 68/68 [00:08<00:00,  7.80it/s]\n"
          ]
        },
        {
          "name": "stdout",
          "output_type": "stream",
          "text": [
            "Test loss:  1.3073618\n"
          ]
        },
        {
          "name": "stderr",
          "output_type": "stream",
          "text": [
            "train: 100%|██████████| 535/535 [05:02<00:00,  1.77it/s]\n"
          ]
        },
        {
          "name": "stdout",
          "output_type": "stream",
          "text": [
            "Epoch: 28\n",
            "Train loss:  0.1293245035889923\n",
            "\n"
          ]
        },
        {
          "name": "stderr",
          "output_type": "stream",
          "text": [
            "valid: 100%|██████████| 68/68 [00:04<00:00, 13.70it/s]\n"
          ]
        },
        {
          "name": "stdout",
          "output_type": "stream",
          "text": [
            "Test loss:  1.2297316\n"
          ]
        },
        {
          "name": "stderr",
          "output_type": "stream",
          "text": [
            "train: 100%|██████████| 535/535 [03:53<00:00,  2.29it/s]\n"
          ]
        },
        {
          "name": "stdout",
          "output_type": "stream",
          "text": [
            "Epoch: 29\n",
            "Train loss:  0.1230389107389868\n",
            "\n"
          ]
        },
        {
          "name": "stderr",
          "output_type": "stream",
          "text": [
            "valid: 100%|██████████| 68/68 [00:05<00:00, 13.55it/s]\n"
          ]
        },
        {
          "name": "stdout",
          "output_type": "stream",
          "text": [
            "Test loss:  0.907182\n"
          ]
        },
        {
          "name": "stderr",
          "output_type": "stream",
          "text": [
            "train: 100%|██████████| 535/535 [04:25<00:00,  2.01it/s]\n"
          ]
        },
        {
          "name": "stdout",
          "output_type": "stream",
          "text": [
            "Epoch: 30\n",
            "Train loss:  0.112232323696499\n",
            "\n"
          ]
        },
        {
          "name": "stderr",
          "output_type": "stream",
          "text": [
            "valid: 100%|██████████| 68/68 [00:08<00:00,  7.66it/s]\n"
          ]
        },
        {
          "name": "stdout",
          "output_type": "stream",
          "text": [
            "Test loss:  1.0520896\n"
          ]
        },
        {
          "name": "stderr",
          "output_type": "stream",
          "text": [
            "train: 100%|██████████| 535/535 [04:14<00:00,  2.10it/s]\n"
          ]
        },
        {
          "name": "stdout",
          "output_type": "stream",
          "text": [
            "Epoch: 31\n",
            "Train loss:  0.10247987730755408\n",
            "\n"
          ]
        },
        {
          "name": "stderr",
          "output_type": "stream",
          "text": [
            "valid: 100%|██████████| 68/68 [00:08<00:00,  7.87it/s]\n"
          ]
        },
        {
          "name": "stdout",
          "output_type": "stream",
          "text": [
            "Test loss:  1.1357136\n"
          ]
        },
        {
          "name": "stderr",
          "output_type": "stream",
          "text": [
            "train: 100%|██████████| 535/535 [03:45<00:00,  2.37it/s]\n"
          ]
        },
        {
          "name": "stdout",
          "output_type": "stream",
          "text": [
            "Epoch: 32\n",
            "Train loss:  0.09387227764894977\n",
            "\n"
          ]
        },
        {
          "name": "stderr",
          "output_type": "stream",
          "text": [
            "valid: 100%|██████████| 68/68 [00:04<00:00, 14.07it/s]\n"
          ]
        },
        {
          "name": "stdout",
          "output_type": "stream",
          "text": [
            "Test loss:  1.161868\n"
          ]
        },
        {
          "name": "stderr",
          "output_type": "stream",
          "text": [
            "train: 100%|██████████| 535/535 [04:06<00:00,  2.17it/s]\n"
          ]
        },
        {
          "name": "stdout",
          "output_type": "stream",
          "text": [
            "Epoch: 33\n",
            "Train loss:  0.08270922574614067\n",
            "\n"
          ]
        },
        {
          "name": "stderr",
          "output_type": "stream",
          "text": [
            "valid: 100%|██████████| 68/68 [00:09<00:00,  7.50it/s]\n"
          ]
        },
        {
          "name": "stdout",
          "output_type": "stream",
          "text": [
            "Test loss:  1.3599529\n"
          ]
        },
        {
          "name": "stderr",
          "output_type": "stream",
          "text": [
            "train: 100%|██████████| 535/535 [05:09<00:00,  1.73it/s]\n"
          ]
        },
        {
          "name": "stdout",
          "output_type": "stream",
          "text": [
            "Epoch: 34\n",
            "Train loss:  0.07791044269836388\n",
            "\n"
          ]
        },
        {
          "name": "stderr",
          "output_type": "stream",
          "text": [
            "valid: 100%|██████████| 68/68 [00:09<00:00,  7.43it/s]\n"
          ]
        },
        {
          "name": "stdout",
          "output_type": "stream",
          "text": [
            "Test loss:  2.0470207\n"
          ]
        },
        {
          "name": "stderr",
          "output_type": "stream",
          "text": [
            "train: 100%|██████████| 535/535 [04:59<00:00,  1.78it/s]\n"
          ]
        },
        {
          "name": "stdout",
          "output_type": "stream",
          "text": [
            "Epoch: 35\n",
            "Train loss:  0.07024439651762747\n",
            "\n"
          ]
        },
        {
          "name": "stderr",
          "output_type": "stream",
          "text": [
            "valid: 100%|██████████| 68/68 [00:05<00:00, 13.26it/s]\n"
          ]
        },
        {
          "name": "stdout",
          "output_type": "stream",
          "text": [
            "Test loss:  1.613797\n"
          ]
        },
        {
          "name": "stderr",
          "output_type": "stream",
          "text": [
            "train: 100%|██████████| 535/535 [04:47<00:00,  1.86it/s]\n"
          ]
        },
        {
          "name": "stdout",
          "output_type": "stream",
          "text": [
            "Epoch: 36\n",
            "Train loss:  0.06392676105128332\n",
            "\n"
          ]
        },
        {
          "name": "stderr",
          "output_type": "stream",
          "text": [
            "valid: 100%|██████████| 68/68 [00:08<00:00,  7.67it/s]\n"
          ]
        },
        {
          "name": "stdout",
          "output_type": "stream",
          "text": [
            "Test loss:  1.899982\n"
          ]
        },
        {
          "name": "stderr",
          "output_type": "stream",
          "text": [
            "train: 100%|██████████| 535/535 [05:21<00:00,  1.66it/s]\n"
          ]
        },
        {
          "name": "stdout",
          "output_type": "stream",
          "text": [
            "Epoch: 37\n",
            "Train loss:  0.06232821171161304\n",
            "\n"
          ]
        },
        {
          "name": "stderr",
          "output_type": "stream",
          "text": [
            "valid: 100%|██████████| 68/68 [00:04<00:00, 13.87it/s]\n"
          ]
        },
        {
          "name": "stdout",
          "output_type": "stream",
          "text": [
            "Test loss:  3.3549156\n"
          ]
        },
        {
          "name": "stderr",
          "output_type": "stream",
          "text": [
            "train: 100%|██████████| 535/535 [04:53<00:00,  1.82it/s]\n"
          ]
        },
        {
          "name": "stdout",
          "output_type": "stream",
          "text": [
            "Epoch: 38\n",
            "Train loss:  0.05513236940159488\n",
            "\n"
          ]
        },
        {
          "name": "stderr",
          "output_type": "stream",
          "text": [
            "valid: 100%|██████████| 68/68 [00:08<00:00,  7.85it/s]\n"
          ]
        },
        {
          "name": "stdout",
          "output_type": "stream",
          "text": [
            "Test loss:  4.227177\n"
          ]
        },
        {
          "name": "stderr",
          "output_type": "stream",
          "text": [
            "train: 100%|██████████| 535/535 [05:09<00:00,  1.73it/s]\n"
          ]
        },
        {
          "name": "stdout",
          "output_type": "stream",
          "text": [
            "Epoch: 39\n",
            "Train loss:  0.05271263861678418\n",
            "\n"
          ]
        },
        {
          "name": "stderr",
          "output_type": "stream",
          "text": [
            "valid: 100%|██████████| 68/68 [00:05<00:00, 13.56it/s]\n"
          ]
        },
        {
          "name": "stdout",
          "output_type": "stream",
          "text": [
            "Test loss:  1.7705808\n"
          ]
        },
        {
          "name": "stderr",
          "output_type": "stream",
          "text": [
            "train: 100%|██████████| 535/535 [04:53<00:00,  1.83it/s]\n"
          ]
        },
        {
          "name": "stdout",
          "output_type": "stream",
          "text": [
            "Epoch: 40\n",
            "Train loss:  0.045881844721193756\n",
            "\n"
          ]
        },
        {
          "name": "stderr",
          "output_type": "stream",
          "text": [
            "valid: 100%|██████████| 68/68 [00:08<00:00,  7.78it/s]\n"
          ]
        },
        {
          "name": "stdout",
          "output_type": "stream",
          "text": [
            "Test loss:  1.7235794\n"
          ]
        },
        {
          "name": "stderr",
          "output_type": "stream",
          "text": [
            "train: 100%|██████████| 535/535 [04:09<00:00,  2.15it/s]\n"
          ]
        },
        {
          "name": "stdout",
          "output_type": "stream",
          "text": [
            "Epoch: 41\n",
            "Train loss:  0.04660390549041244\n",
            "\n"
          ]
        },
        {
          "name": "stderr",
          "output_type": "stream",
          "text": [
            "valid: 100%|██████████| 68/68 [00:04<00:00, 13.87it/s]\n"
          ]
        },
        {
          "name": "stdout",
          "output_type": "stream",
          "text": [
            "Test loss:  3.6113055\n"
          ]
        },
        {
          "name": "stderr",
          "output_type": "stream",
          "text": [
            "train: 100%|██████████| 535/535 [03:52<00:00,  2.30it/s]\n"
          ]
        },
        {
          "name": "stdout",
          "output_type": "stream",
          "text": [
            "Epoch: 42\n",
            "Train loss:  0.04467879187698676\n",
            "\n"
          ]
        },
        {
          "name": "stderr",
          "output_type": "stream",
          "text": [
            "valid: 100%|██████████| 68/68 [00:08<00:00,  7.89it/s]\n"
          ]
        },
        {
          "name": "stdout",
          "output_type": "stream",
          "text": [
            "Test loss:  4.1739264\n"
          ]
        },
        {
          "name": "stderr",
          "output_type": "stream",
          "text": [
            "train: 100%|██████████| 535/535 [05:13<00:00,  1.71it/s]\n"
          ]
        },
        {
          "name": "stdout",
          "output_type": "stream",
          "text": [
            "Epoch: 43\n",
            "Train loss:  0.03844972269935425\n",
            "\n"
          ]
        },
        {
          "name": "stderr",
          "output_type": "stream",
          "text": [
            "valid: 100%|██████████| 68/68 [00:08<00:00,  7.88it/s]\n"
          ]
        },
        {
          "name": "stdout",
          "output_type": "stream",
          "text": [
            "Test loss:  1.8964128\n"
          ]
        },
        {
          "name": "stderr",
          "output_type": "stream",
          "text": [
            "train: 100%|██████████| 535/535 [05:16<00:00,  1.69it/s]\n"
          ]
        },
        {
          "name": "stdout",
          "output_type": "stream",
          "text": [
            "Epoch: 44\n",
            "Train loss:  0.038836628631209937\n",
            "\n"
          ]
        },
        {
          "name": "stderr",
          "output_type": "stream",
          "text": [
            "valid: 100%|██████████| 68/68 [00:08<00:00,  7.90it/s]\n"
          ]
        },
        {
          "name": "stdout",
          "output_type": "stream",
          "text": [
            "Test loss:  2.4752703\n"
          ]
        },
        {
          "name": "stderr",
          "output_type": "stream",
          "text": [
            "train: 100%|██████████| 535/535 [04:16<00:00,  2.08it/s]\n"
          ]
        },
        {
          "name": "stdout",
          "output_type": "stream",
          "text": [
            "Epoch: 45\n",
            "Train loss:  0.03326032379607312\n",
            "\n"
          ]
        },
        {
          "name": "stderr",
          "output_type": "stream",
          "text": [
            "valid: 100%|██████████| 68/68 [00:04<00:00, 13.79it/s]\n"
          ]
        },
        {
          "name": "stdout",
          "output_type": "stream",
          "text": [
            "Test loss:  3.716136\n"
          ]
        },
        {
          "name": "stderr",
          "output_type": "stream",
          "text": [
            "train: 100%|██████████| 535/535 [04:53<00:00,  1.82it/s]\n"
          ]
        },
        {
          "name": "stdout",
          "output_type": "stream",
          "text": [
            "Epoch: 46\n",
            "Train loss:  0.03529616631569943\n",
            "\n"
          ]
        },
        {
          "name": "stderr",
          "output_type": "stream",
          "text": [
            "valid: 100%|██████████| 68/68 [00:08<00:00,  7.90it/s]\n"
          ]
        },
        {
          "name": "stdout",
          "output_type": "stream",
          "text": [
            "Test loss:  2.792475\n"
          ]
        },
        {
          "name": "stderr",
          "output_type": "stream",
          "text": [
            "train: 100%|██████████| 535/535 [04:36<00:00,  1.94it/s]\n"
          ]
        },
        {
          "name": "stdout",
          "output_type": "stream",
          "text": [
            "Epoch: 47\n",
            "Train loss:  0.032345621395176036\n",
            "\n"
          ]
        },
        {
          "name": "stderr",
          "output_type": "stream",
          "text": [
            "valid: 100%|██████████| 68/68 [00:07<00:00,  9.57it/s]\n"
          ]
        },
        {
          "name": "stdout",
          "output_type": "stream",
          "text": [
            "Test loss:  2.1696806\n"
          ]
        },
        {
          "name": "stderr",
          "output_type": "stream",
          "text": [
            "train: 100%|██████████| 535/535 [05:09<00:00,  1.73it/s]\n"
          ]
        },
        {
          "name": "stdout",
          "output_type": "stream",
          "text": [
            "Epoch: 48\n",
            "Train loss:  0.029323745881485803\n",
            "\n"
          ]
        },
        {
          "name": "stderr",
          "output_type": "stream",
          "text": [
            "valid: 100%|██████████| 68/68 [00:08<00:00,  7.91it/s]\n"
          ]
        },
        {
          "name": "stdout",
          "output_type": "stream",
          "text": [
            "Test loss:  2.3918846\n"
          ]
        },
        {
          "name": "stderr",
          "output_type": "stream",
          "text": [
            "train: 100%|██████████| 535/535 [05:19<00:00,  1.68it/s]\n"
          ]
        },
        {
          "name": "stdout",
          "output_type": "stream",
          "text": [
            "Epoch: 49\n",
            "Train loss:  0.027905542543089936\n",
            "\n"
          ]
        },
        {
          "name": "stderr",
          "output_type": "stream",
          "text": [
            "valid: 100%|██████████| 68/68 [00:08<00:00,  7.90it/s]\n"
          ]
        },
        {
          "name": "stdout",
          "output_type": "stream",
          "text": [
            "Test loss:  2.2699046\n"
          ]
        },
        {
          "name": "stderr",
          "output_type": "stream",
          "text": [
            "train: 100%|██████████| 535/535 [04:52<00:00,  1.83it/s]\n"
          ]
        },
        {
          "name": "stdout",
          "output_type": "stream",
          "text": [
            "Epoch: 50\n",
            "Train loss:  0.03139892292019795\n",
            "\n"
          ]
        },
        {
          "name": "stderr",
          "output_type": "stream",
          "text": [
            "valid: 100%|██████████| 68/68 [00:04<00:00, 13.62it/s]\n"
          ]
        },
        {
          "name": "stdout",
          "output_type": "stream",
          "text": [
            "Test loss:  4.046796\n"
          ]
        },
        {
          "name": "stderr",
          "output_type": "stream",
          "text": [
            "train: 100%|██████████| 535/535 [03:36<00:00,  2.47it/s]\n"
          ]
        },
        {
          "name": "stdout",
          "output_type": "stream",
          "text": [
            "Epoch: 51\n",
            "Train loss:  0.02795702032570805\n",
            "\n"
          ]
        },
        {
          "name": "stderr",
          "output_type": "stream",
          "text": [
            "valid: 100%|██████████| 68/68 [00:04<00:00, 13.86it/s]\n"
          ]
        },
        {
          "name": "stdout",
          "output_type": "stream",
          "text": [
            "Test loss:  1.7533255\n"
          ]
        },
        {
          "name": "stderr",
          "output_type": "stream",
          "text": [
            "train: 100%|██████████| 535/535 [04:56<00:00,  1.80it/s]\n"
          ]
        },
        {
          "name": "stdout",
          "output_type": "stream",
          "text": [
            "Epoch: 52\n",
            "Train loss:  0.026318142435425174\n",
            "\n"
          ]
        },
        {
          "name": "stderr",
          "output_type": "stream",
          "text": [
            "valid: 100%|██████████| 68/68 [00:08<00:00,  7.91it/s]\n"
          ]
        },
        {
          "name": "stdout",
          "output_type": "stream",
          "text": [
            "Test loss:  2.9790998\n"
          ]
        },
        {
          "name": "stderr",
          "output_type": "stream",
          "text": [
            "train: 100%|██████████| 535/535 [05:00<00:00,  1.78it/s]\n"
          ]
        },
        {
          "name": "stdout",
          "output_type": "stream",
          "text": [
            "Epoch: 53\n",
            "Train loss:  0.025857071106043746\n",
            "\n"
          ]
        },
        {
          "name": "stderr",
          "output_type": "stream",
          "text": [
            "valid: 100%|██████████| 68/68 [00:05<00:00, 13.45it/s]\n"
          ]
        },
        {
          "name": "stdout",
          "output_type": "stream",
          "text": [
            "Test loss:  2.3556361\n"
          ]
        },
        {
          "name": "stderr",
          "output_type": "stream",
          "text": [
            "train: 100%|██████████| 535/535 [03:36<00:00,  2.47it/s]\n"
          ]
        },
        {
          "name": "stdout",
          "output_type": "stream",
          "text": [
            "Epoch: 54\n",
            "Train loss:  0.023030604406879228\n",
            "\n"
          ]
        },
        {
          "name": "stderr",
          "output_type": "stream",
          "text": [
            "valid: 100%|██████████| 68/68 [00:04<00:00, 13.79it/s]\n"
          ]
        },
        {
          "name": "stdout",
          "output_type": "stream",
          "text": [
            "Test loss:  4.0123167\n"
          ]
        },
        {
          "name": "stderr",
          "output_type": "stream",
          "text": [
            "train:  72%|███████▏  | 385/535 [02:35<00:59,  2.51it/s]"
          ]
        }
      ],
      "source": [
        "train(\n",
        "    model_name=model_name,\n",
        "    train_gen=train_gen,\n",
        "    val_gen=val_gen,\n",
        "    batch_size=batch_size,\n",
        "    epochs=epochs,\n",
        "    loggr=logger,\n",
        "    name=model_name,\n",
        ")"
      ]
    },
    {
      "attachments": {},
      "cell_type": "markdown",
      "metadata": {},
      "source": [
        "# Test"
      ]
    },
    {
      "cell_type": "code",
      "execution_count": 8,
      "metadata": {},
      "outputs": [],
      "source": [
        "def epoch_run(\n",
        "    model: nn.Module, dataset: torch.utils.data.Dataset, device: torch.device\n",
        ") -> List[np.array]:\n",
        "    \"\"\"Testing of the model.\n",
        "\n",
        "    Parameters\n",
        "    ----------\n",
        "    model: nn.Module\n",
        "        Model to be tested.\n",
        "    dataset: torch.utils.data.DataLoader\n",
        "        Dataset to be tested.\n",
        "    device: torch.device\n",
        "        Device to be used.\n",
        "\n",
        "    Returns\n",
        "    -------\n",
        "    np.array\n",
        "        Predicted values.\n",
        "\n",
        "    \"\"\"\n",
        "\n",
        "    model.to(device)\n",
        "    model.eval()\n",
        "    pred_all = []\n",
        "\n",
        "    for batch_step in tqdm(range(len(dataset)), desc=\"test\"):\n",
        "        batch_x, _ = dataset[batch_step]\n",
        "        batch_x = batch_x.permute(0, 2, 1).to(device)\n",
        "        pred = model(batch_x)\n",
        "        pred_all.append(pred.detach().cpu().numpy())\n",
        "    pred_all = np.concatenate(pred_all, axis=0)\n",
        "\n",
        "    return pred_all\n",
        "\n",
        "\n",
        "def test(\n",
        "    model_name: str,\n",
        "    test_gen: DataGen,\n",
        "    batch_size: int = 32\n",
        ") -> None:\n",
        "    \"\"\"Data preprocessing and testing of the model.\n",
        "\n",
        "    Parameters\n",
        "    ----------\n",
        "    model: nn.Module\n",
        "        Model to be trained.\n",
        "    path: str, optional\n",
        "        Path to the directory containing the data. (default: 'data/ptb')\n",
        "    batch_size: int, optional\n",
        "        Batch size. (default: 32)\n",
        "    name: str, optional\n",
        "        Name of the model. (default: 'imle_net')\n",
        "\n",
        "    \"\"\"\n",
        "\n",
        "    if model_name == \"ecgnet\":\n",
        "        model = ECGNet()\n",
        "    else:\n",
        "        model = resnet101()\n",
        "\n",
        "    path_weights = os.path.join(os.getcwd(), \"checkpoints\", f\"{model_name}_full_weights.pt\")\n",
        "    model.load_state_dict(torch.load(path_weights))\n",
        "\n",
        "    pred = epoch_run(model, test_gen, device)\n",
        "\n",
        "    roc_score = roc_auc_score(y_test, pred, average=\"macro\")\n",
        "    acc, mean_acc = Metrics(y_test, pred)\n",
        "    class_auc = AUC(y_test, pred)\n",
        "    summary = metric_summary(y_test, pred)\n",
        "\n",
        "    print(f\"class wise accuracy: {acc}\")\n",
        "    print(f\"accuracy: {mean_acc}\")\n",
        "    print(f\"roc_score : {roc_score}\")\n",
        "    print(f\"class wise AUC : {class_auc}\")\n",
        "    print(f\"F1 score (Max): {summary[0]}\")\n",
        "    print(f\"class wise precision, recall, f1 score : {summary}\")\n",
        "\n",
        "    logs = dict()\n",
        "    logs[\"roc_score\"] = roc_score\n",
        "    logs[\"mean_acc\"] = mean_acc\n",
        "    logs[\"accuracy\"] = acc\n",
        "    logs[\"class_auc\"] = class_auc\n",
        "    logs[\"F1 score (Max)\"] = summary[0]\n",
        "    logs[\"class_precision_recall_f1\"] = summary\n",
        "    logs_path = os.path.join(os.getcwd(), \"logs\")\n",
        "    os.makedirs(logs_path, exist_ok=True)\n",
        "    \n",
        "    with open(os.path.join(logs_path, f\"{model_name}_test_logs.json\"), \"w\") as json_file:\n",
        "        json.dump(logs, json_file)"
      ]
    },
    {
      "cell_type": "code",
      "execution_count": 15,
      "metadata": {},
      "outputs": [],
      "source": [
        "model_name = 'resnet101'\n",
        "batch_size = 32\n",
        "test_gen = DataGen(X_test_scale, y_test, batch_size=batch_size)\n"
      ]
    },
    {
      "cell_type": "code",
      "execution_count": 38,
      "metadata": {},
      "outputs": [
        {
          "name": "stdout",
          "output_type": "stream",
          "text": [
            "Initial GPU Usage\n",
            "| ID | GPU | MEM |\n",
            "------------------\n",
            "|  0 |  0% | 81% |\n",
            "GPU Usage after emptying the cache\n",
            "| ID | GPU | MEM |\n",
            "------------------\n",
            "|  0 |  0% | 31% |\n"
          ]
        }
      ],
      "source": [
        "free_gpu_cache()"
      ]
    },
    {
      "cell_type": "code",
      "execution_count": 39,
      "metadata": {},
      "outputs": [
        {
          "name": "stderr",
          "output_type": "stream",
          "text": [
            "test: 100%|██████████| 68/68 [00:08<00:00,  7.93it/s]"
          ]
        },
        {
          "name": "stdout",
          "output_type": "stream",
          "text": [
            "class wise accuracy: [0.857341361741547, 0.890226956924502, 0.8286243631310792, 0.8198239925891616, 0.8378879110699398]\n",
            "accuracy: 0.8467809170912458\n",
            "roc_score : 0.8428358367899309\n",
            "class wise AUC : [0.8298612372187396, 0.8011685787523087, 0.8332949589619958, 0.8792852255875416, 0.8705691834290683]\n",
            "F1 score (Max): 0.7242958849954538\n",
            "class wise precision, recall, f1 score : (0.7242958849954538, 0.8428358367899309, [0.7242958849954538, 0.7216993405246234, 0.7203542060319079, 0.7204909101903125, 0.7205054721584067, 0.718905710041296, 0.7160158275688105, 0.7147511219333033, 0.714344951401999, 0.7136078525563864], [0.7357665394402035, 0.7358919177427068, 0.7358513189448441, 0.7377403846153846, 0.7391321783766441, 0.7407452116529858, 0.7413304164641064, 0.7419026692708334, 0.7429095354523227, 0.7448453608247423], [0.7131773969430292, 0.708043847460244, 0.7054963717770573, 0.7040296433534043, 0.702794503628223, 0.6983171221244404, 0.6923730121970048, 0.6895167515825228, 0.6878956306932222, 0.6848849776130925], [0.0, 0.1111111111111111, 0.2222222222222222, 0.3333333333333333, 0.4444444444444444, 0.5555555555555556, 0.6666666666666666, 0.7777777777777777, 0.8888888888888888, 1.0])\n"
          ]
        },
        {
          "name": "stderr",
          "output_type": "stream",
          "text": [
            "\n"
          ]
        }
      ],
      "source": [
        "test(model_name, test_gen=test_gen, batch_size=batch_size)"
      ]
    },
    {
      "cell_type": "code",
      "execution_count": 13,
      "metadata": {},
      "outputs": [
        {
          "name": "stdout",
          "output_type": "stream",
          "text": [
            "Initial GPU Usage\n",
            "| ID | GPU | MEM |\n",
            "------------------\n",
            "GPU Usage after emptying the cache\n",
            "| ID | GPU | MEM |\n",
            "------------------\n"
          ]
        }
      ],
      "source": [
        "free_gpu_cache()"
      ]
    },
    {
      "cell_type": "code",
      "execution_count": 17,
      "metadata": {},
      "outputs": [],
      "source": [
        "model_name = 'ECGNet'\n",
        "test(model_name, test_gen=test_gen, batch_size=batch_size)"
      ]
    },
    {
      "attachments": {},
      "cell_type": "markdown",
      "metadata": {},
      "source": [
        "## Save models"
      ]
    },
    {
      "cell_type": "code",
      "execution_count": 41,
      "metadata": {},
      "outputs": [
        {
          "data": {
            "text/plain": [
              "<wandb.sdk.wandb_artifacts.Artifact at 0x7ff7fe4ea580>"
            ]
          },
          "execution_count": 41,
          "metadata": {},
          "output_type": "execute_result"
        }
      ],
      "source": [
        "art = wandb.Artifact(\"Idoven_resnet101\", type=\"model\")\n",
        "art.add_file(\"checkpoints/resnet101_full_weights.pt\")\n",
        "wandb.log_artifact(art)"
      ]
    },
    {
      "cell_type": "code",
      "execution_count": 40,
      "metadata": {},
      "outputs": [
        {
          "data": {
            "text/plain": [
              "['/mnt/c/Users/diego/OneDrive/Documentos/Idoven/Idoven-Data-Scientist/wandb/run-20230211_203000-3a9nazo6/files/checkpoints/resnet101_full_weights.pt']"
            ]
          },
          "execution_count": 40,
          "metadata": {},
          "output_type": "execute_result"
        }
      ],
      "source": [
        "wandb.save('checkpoints/resnet101_full_weights.pt')"
      ]
    },
    {
      "attachments": {},
      "cell_type": "markdown",
      "metadata": {},
      "source": [
        "# See Results"
      ]
    },
    {
      "cell_type": "code",
      "execution_count": 50,
      "metadata": {},
      "outputs": [],
      "source": [
        "class_wise_accuracy = [0.857341361741547, 0.890226956924502, 0.8286243631310792, 0.8198239925891616, 0.8378879110699398]\n",
        "accuracy = 0.8467809170912458\n",
        "roc_score = 0.8428358367899309\n",
        "class_wise_auc = [0.8298612372187396, 0.8011685787523087, 0.8332949589619958, 0.8792852255875416, 0.8705691834290683]\n",
        "f1_score_max = 0.7242958849954538"
      ]
    },
    {
      "cell_type": "code",
      "execution_count": 53,
      "metadata": {},
      "outputs": [
        {
          "data": {
            "image/png": "[encoded data removed]",
            "text/plain": [
              "<Figure size 640x480 with 1 Axes>"
            ]
          },
          "metadata": {},
          "output_type": "display_data"
        }
      ],
      "source": [
        "    # Plotting class-wise accuracy\n",
        "    sns.barplot(x=['Class '+str(i+1) for i in range(len(class_wise_accuracy))], y=class_wise_accuracy)\n",
        "    plt.title('Class-wise Accuracy')\n",
        "    plt.show()"
      ]
    },
    {
      "attachments": {},
      "cell_type": "markdown",
      "metadata": {},
      "source": [
        "# Logs"
      ]
    },
    {
      "cell_type": "code",
      "execution_count": 58,
      "metadata": {},
      "outputs": [
        {
          "data": {
            "text/html": [
              "Waiting for W&B process to finish... <strong style=\"color:green\">(success).</strong>"
            ],
            "text/plain": [
              "<IPython.core.display.HTML object>"
            ]
          },
          "metadata": {},
          "output_type": "display_data"
        },
        {
          "data": {
            "application/vnd.jupyter.widget-view+json": {
              "model_id": "cea5ed8ce3f44652b67963afed96f851",
              "version_major": 2,
              "version_minor": 0
            },
            "text/plain": [
              "VBox(children=(Label(value='0.016 MB of 0.016 MB uploaded (0.000 MB deduped)\\r'), FloatProgress(value=1.0, max…"
            ]
          },
          "metadata": {},
          "output_type": "display_data"
        },
        {
          "data": {
            "text/html": [
              "<style>\n",
              "    table.wandb td:nth-child(1) { padding: 0 10px; text-align: left ; width: auto;} td:nth-child(2) {text-align: left ; width: 100%}\n",
              "    .wandb-row { display: flex; flex-direction: row; flex-wrap: wrap; justify-content: flex-start; width: 100% }\n",
              "    .wandb-col { display: flex; flex-direction: column; flex-basis: 100%; flex: 1; padding: 10px; }\n",
              "    </style>\n",
              "<div class=\"wandb-row\"><div class=\"wandb-col\"><h3>Run history:</h3><br/><table class=\"wandb\"><tr><td>F1 score (Max)</td><td>▁</td></tr><tr><td>mean_acc</td><td>▁</td></tr><tr><td>roc_score</td><td>▁</td></tr></table><br/></div><div class=\"wandb-col\"><h3>Run summary:</h3><br/><table class=\"wandb\"><tr><td>F1 score (Max)</td><td>0.7243</td></tr><tr><td>mean_acc</td><td>0.84678</td></tr><tr><td>roc_score</td><td>0.84284</td></tr></table><br/></div></div>"
            ],
            "text/plain": [
              "<IPython.core.display.HTML object>"
            ]
          },
          "metadata": {},
          "output_type": "display_data"
        },
        {
          "data": {
            "text/html": [
              " View run <strong style=\"color:#cdcd00\">jumping-sea-8</strong> at: <a href='https://wandb.ai/deelak/Idoven-ECG/runs/vdx1ra3s' target=\"_blank\">https://wandb.ai/deelak/Idoven-ECG/runs/vdx1ra3s</a><br/>Synced 6 W&B file(s), 0 media file(s), 0 artifact file(s) and 0 other file(s)"
            ],
            "text/plain": [
              "<IPython.core.display.HTML object>"
            ]
          },
          "metadata": {},
          "output_type": "display_data"
        },
        {
          "data": {
            "text/html": [
              "Find logs at: <code>./wandb/run-20230212_203030-vdx1ra3s/logs</code>"
            ],
            "text/plain": [
              "<IPython.core.display.HTML object>"
            ]
          },
          "metadata": {},
          "output_type": "display_data"
        }
      ],
      "source": [
        "wandb.finish()"
      ]
    },
    {
      "cell_type": "code",
      "execution_count": 54,
      "metadata": {},
      "outputs": [],
      "source": [
        "with open('logs/resnet101_test_logs.json') as f:\n",
        "    data = json.load(f)\n",
        "\n",
        "test_logs = dict(data)"
      ]
    },
    {
      "cell_type": "code",
      "execution_count": 57,
      "metadata": {},
      "outputs": [],
      "source": [
        "wandb.log(test_logs)"
      ]
    },
    {
      "cell_type": "markdown",
      "metadata": {
        "id": "Z0P9HLKWUynk"
      },
      "source": [
        "# References "
      ]
    },
    {
      "cell_type": "markdown",
      "metadata": {
        "id": "6tLBmY8GUynl"
      },
      "source": [
        "[1]\tECG plot: https://github.com/dy1901/ecg_plot\n",
        "\n"
      ]
    }
  ],
  "metadata": {
    "colab": {
      "provenance": []
    },
    "kernelspec": {
      "display_name": "idoven",
      "language": "python",
      "name": "python3"
    },
    "language_info": {
      "codemirror_mode": {
        "name": "ipython",
        "version": 3
      },
      "file_extension": ".py",
      "mimetype": "text/x-python",
      "name": "python",
      "nbconvert_exporter": "python",
      "pygments_lexer": "ipython3",
      "version": "3.9.16"
    },
    "orig_nbformat": 4,
    "vscode": {
      "interpreter": {
        "hash": "f7bb721b28fe659ee8bafbd003399f4ad6734ba4bd1773afd670a86d04220c7a"
      }
    }
  },
  "nbformat": 4,
  "nbformat_minor": 0
}
