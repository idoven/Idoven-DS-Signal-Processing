{
  "nbformat": 4,
  "nbformat_minor": 0,
  "metadata": {
    "colab": {
      "provenance": [],
      "collapsed_sections": [],
      "mount_file_id": "1rfzwEu7pYyvpgyC6SK28JbD-ZuBsfGcg",
      "authorship_tag": "ABX9TyOH4+dYgbnqE23qsEaZJV5E"
    },
    "kernelspec": {
      "name": "python3",
      "display_name": "Python 3"
    },
    "language_info": {
      "name": "python"
    }
  },
  "cells": [
    {
      "cell_type": "code",
      "source": [
        "%cd /content/drive/MyDrive/Github/Idoven"
      ],
      "metadata": {
        "colab": {
          "base_uri": "https://localhost:8080/"
        },
        "id": "qfeFP5P6bDik",
        "outputId": "04470e6f-bbb7-497b-9311-cc63ceedbae0"
      },
      "execution_count": null,
      "outputs": [
        {
          "output_type": "stream",
          "name": "stdout",
          "text": [
            "/content/drive/MyDrive/Github/Idoven\n"
          ]
        }
      ]
    },
    {
      "cell_type": "code",
      "source": [
        "%%writefile requirements.txt\n",
        "numpy\n",
        "pandas\n",
        "matplotlib==3.1.3\n",
        "seaborn\n",
        "wfdb\n",
        "ecg_plot\n",
        "scipy\n",
        "torch\n",
        "tqdm"
      ],
      "metadata": {
        "colab": {
          "base_uri": "https://localhost:8080/"
        },
        "id": "2hJqHJZMqytb",
        "outputId": "6da1ed27-3776-4634-98f9-f32d94a44bdc"
      },
      "execution_count": null,
      "outputs": [
        {
          "output_type": "stream",
          "name": "stdout",
          "text": [
            "Overwriting requirements.txt\n"
          ]
        }
      ]
    }
  ]
}